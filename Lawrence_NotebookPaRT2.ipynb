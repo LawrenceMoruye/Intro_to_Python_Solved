{
  "nbformat": 4,
  "nbformat_minor": 0,
  "metadata": {
    "colab": {
      "name": "Lawrence_NotebookPaRT2.ipynb",
      "provenance": []
    },
    "kernelspec": {
      "name": "python3",
      "display_name": "Python 3"
    }
  },
  "cells": [
    {
      "cell_type": "code",
      "metadata": {
        "id": "9Oxx7iyEvm0w"
      },
      "source": [
        "from math import exp\n",
        "def Bisection1(f,a,b):\n",
        "    fa =f(a)\n",
        "    fb =f(b)\n",
        "\n",
        "    if fa*fb >0:\n",
        "        print(\"No soln since one of the numbers must be negtiv\")\n",
        "        return None\n",
        "        \n",
        "        \n",
        "    \n",
        "    for _ in range(50):\n",
        "        c = (a+b)/2\n",
        "        fc =f(c)\n",
        "\n",
        "        if fc ==0:\n",
        "            return c\n",
        "\n",
        "        if fa *fc >0:\n",
        "            a = c\n",
        "            fa = fc\n",
        "\n",
        "        if fb *fc >0:\n",
        "            b= c\n",
        "            fb = fc\n",
        "    return c\n",
        "\n",
        "\n",
        "        \n",
        "        \n",
        "\n",
        "    "
      ],
      "execution_count": null,
      "outputs": []
    },
    {
      "cell_type": "code",
      "metadata": {
        "colab": {
          "base_uri": "https://localhost:8080/"
        },
        "id": "TdqeCabnvp03",
        "outputId": "7cfd63fb-8b61-4bf0-fa86-805049e70e43"
      },
      "source": [
        "func =lambda x: x**2 -1\n",
        "a = -1\n",
        "b = 1\n",
        "x = Bisection1(func,a,b)\n",
        "print(x)"
      ],
      "execution_count": null,
      "outputs": [
        {
          "output_type": "stream",
          "text": [
            "0.0\n"
          ],
          "name": "stdout"
        }
      ]
    },
    {
      "cell_type": "code",
      "metadata": {
        "colab": {
          "base_uri": "https://localhost:8080/"
        },
        "id": "qgIcz3DIvmfK",
        "outputId": "987a2d20-7b28-460b-c5e5-6071e1824208"
      },
      "source": [
        "a = 10\n",
        "b = 45\n",
        "func2 = lambda x: exp(x) - 5*x**2\n",
        "x2 =Bisection1(func2,a,b)\n",
        "print(x2)\n",
        "\n"
      ],
      "execution_count": null,
      "outputs": [
        {
          "output_type": "stream",
          "text": [
            "No soln since one of the numbers must be negtiv\n",
            "None\n"
          ],
          "name": "stdout"
        }
      ]
    },
    {
      "cell_type": "code",
      "metadata": {
        "colab": {
          "base_uri": "https://localhost:8080/"
        },
        "id": "hjZ_9r_zgF8g",
        "outputId": "4fefb815-85de-4013-99ba-20064b96e2bf"
      },
      "source": [
        "#Exercise 2 Q1\n",
        "from math import pi\n",
        "def vol_sphere(r):\n",
        "  return 4/3 *pi*r**3\n",
        "vol_sphere(7)"
      ],
      "execution_count": null,
      "outputs": [
        {
          "output_type": "execute_result",
          "data": {
            "text/plain": [
              "1436.7550402417319"
            ]
          },
          "metadata": {
            "tags": []
          },
          "execution_count": 6
        }
      ]
    },
    {
      "cell_type": "code",
      "metadata": {
        "colab": {
          "base_uri": "https://localhost:8080/"
        },
        "id": "2e2YdT6cgdLm",
        "outputId": "75220dd2-c943-4d35-dd76-1eb1f7455cc0"
      },
      "source": [
        "#Q2\n",
        "import sympy as sp\n",
        "r = sp.Symbol(\"r\")\n",
        "p = sp.Symbol(\"p\")\n",
        "\n",
        "print(sp.diff(4/3*p*r**3,r))"
      ],
      "execution_count": null,
      "outputs": [
        {
          "output_type": "stream",
          "text": [
            "4.0*p*r**2\n"
          ],
          "name": "stdout"
        }
      ]
    },
    {
      "cell_type": "code",
      "metadata": {
        "colab": {
          "base_uri": "https://localhost:8080/"
        },
        "id": "p1xewx3Fhav8",
        "outputId": "09c37caa-e342-430e-fbb0-377a7b132e17"
      },
      "source": [
        "#Q3\n",
        "x = lambda r : 4*pi*r**2\n",
        "x(7)"
      ],
      "execution_count": null,
      "outputs": [
        {
          "output_type": "execute_result",
          "data": {
            "text/plain": [
              "615.7521601035994"
            ]
          },
          "metadata": {
            "tags": []
          },
          "execution_count": 10
        }
      ]
    },
    {
      "cell_type": "code",
      "metadata": {
        "colab": {
          "base_uri": "https://localhost:8080/"
        },
        "id": "voR4dDIrijEt",
        "outputId": "108779a3-80bc-45f8-c6ea-1aba04290198"
      },
      "source": [
        "#Q4\n",
        "def myArea(r):\n",
        "  area=4*pi*pow(r,2)\n",
        "  volume=(4/3)*pi*pow(r,3)\n",
        "  return area\n",
        "myArea(7)\n"
      ],
      "execution_count": null,
      "outputs": [
        {
          "output_type": "execute_result",
          "data": {
            "text/plain": [
              "615.7521601035994"
            ]
          },
          "metadata": {
            "tags": []
          },
          "execution_count": 13
        }
      ]
    },
    {
      "cell_type": "code",
      "metadata": {
        "id": "87fKr8UTiknv"
      },
      "source": [
        ""
      ],
      "execution_count": null,
      "outputs": []
    }
  ]
}