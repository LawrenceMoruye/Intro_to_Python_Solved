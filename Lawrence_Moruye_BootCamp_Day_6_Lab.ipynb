{
  "nbformat": 4,
  "nbformat_minor": 0,
  "metadata": {
    "colab": {
      "name": "Lawrence_Moruye_BootCamp_Day_6_Lab.ipynb",
      "provenance": [],
      "collapsed_sections": []
    },
    "kernelspec": {
      "name": "python3",
      "display_name": "Python 3"
    }
  },
  "cells": [
    {
      "cell_type": "markdown",
      "metadata": {
        "id": "OMEZwkVfuAQw"
      },
      "source": [
        "<a href='https://aims-senegal.org/'> <img src='http://sn.nexteinstein.org/wp-content/uploads/sites/12/2016/07/aims_senegal.jpg' /></a>"
      ]
    },
    {
      "cell_type": "code",
      "metadata": {
        "id": "gmHCp3XmxPuD"
      },
      "source": [
        "# run this cell first\n",
        "import numpy as np"
      ],
      "execution_count": null,
      "outputs": []
    },
    {
      "cell_type": "markdown",
      "metadata": {
        "id": "rrfzDGdlzNsp"
      },
      "source": [
        "\n",
        "\n",
        "---\n",
        "\n",
        "\n",
        "\n",
        "---\n",
        "\n",
        "\n",
        "\n",
        "---\n",
        "\n"
      ]
    },
    {
      "cell_type": "markdown",
      "metadata": {
        "id": "HphSexHJFi1T"
      },
      "source": [
        "# Exercise A:\n",
        "\n",
        "\n"
      ]
    },
    {
      "cell_type": "markdown",
      "metadata": {
        "id": "Y_OjrWqbGTyq"
      },
      "source": [
        "### 1- Construct a Ndarray  of shape (3, 2) filled with **8**, Then set element (0, 1) to 10, and element (1, 0) to 100"
      ]
    },
    {
      "cell_type": "code",
      "metadata": {
        "id": "EYrWwRP5GJJv",
        "colab": {
          "base_uri": "https://localhost:8080/"
        },
        "outputId": "16c9ffae-b2cb-4b67-b7f6-b11447994c3e"
      },
      "source": [
        "################################################################################\n",
        "#                              START OF YOUR CODE                                #\n",
        "################################################################################\n",
        "\n",
        "\n",
        "#your code should be here\n",
        "x=np.full((3,2),8)\n",
        "x[0,1]=10\n",
        "x[1,0]=100\n",
        "x\n",
        "################################################################################\n",
        "#                              END OF YOUR CODE                                #\n",
        "################################################################################"
      ],
      "execution_count": null,
      "outputs": [
        {
          "output_type": "execute_result",
          "data": {
            "text/plain": [
              "array([[  8,  10],\n",
              "       [100,   8],\n",
              "       [  8,   8]])"
            ]
          },
          "metadata": {
            "tags": []
          },
          "execution_count": 5
        }
      ]
    },
    {
      "cell_type": "markdown",
      "metadata": {
        "id": "AhNeVAJeGVwS"
      },
      "source": [
        "### 2- Create a 64-bit floating-point Ndarray of shape (6,) (six-element vector) filled with evenly-spaced values between 10 and 20. "
      ]
    },
    {
      "cell_type": "code",
      "metadata": {
        "id": "RxTXO9H6Goc0",
        "colab": {
          "base_uri": "https://localhost:8080/"
        },
        "outputId": "0588644c-c008-41a3-d83f-21fdec9e93c9"
      },
      "source": [
        "################################################################################\n",
        "#                              START OF YOUR CODE                                #\n",
        "################################################################################\n",
        "\n",
        "\n",
        "#your code should be here\n",
        "np.linspace(10,20,6)\n",
        "################################################################################\n",
        "#                              END OF YOUR CODE                                #\n",
        "################################################################################"
      ],
      "execution_count": null,
      "outputs": [
        {
          "output_type": "execute_result",
          "data": {
            "text/plain": [
              "array([10., 12., 14., 16., 18., 20.])"
            ]
          },
          "metadata": {
            "tags": []
          },
          "execution_count": 23
        }
      ]
    },
    {
      "cell_type": "markdown",
      "metadata": {
        "id": "JKVAKcUSGq4G"
      },
      "source": [
        "### 3- Create a vector with values ranging from 10 to 49"
      ]
    },
    {
      "cell_type": "code",
      "metadata": {
        "id": "xo6Jeuk_HcRJ",
        "colab": {
          "base_uri": "https://localhost:8080/"
        },
        "outputId": "76dc5daa-b388-407f-e61a-659be29907c0"
      },
      "source": [
        "################################################################################\n",
        "#                              START OF YOUR CODE                                #\n",
        "################################################################################\n",
        "\n",
        "\n",
        "#your code should be here\n",
        "x =np.arange(50)\n",
        "x =x[x>=10]\n",
        "x\n",
        " \n",
        "################################################################################\n",
        "#                              END OF YOUR CODE                                #\n",
        "################################################################################"
      ],
      "execution_count": null,
      "outputs": [
        {
          "output_type": "execute_result",
          "data": {
            "text/plain": [
              "array([10, 11, 12, 13, 14, 15, 16, 17, 18, 19, 20, 21, 22, 23, 24, 25, 26,\n",
              "       27, 28, 29, 30, 31, 32, 33, 34, 35, 36, 37, 38, 39, 40, 41, 42, 43,\n",
              "       44, 45, 46, 47, 48, 49])"
            ]
          },
          "metadata": {
            "tags": []
          },
          "execution_count": 7
        }
      ]
    },
    {
      "cell_type": "markdown",
      "metadata": {
        "id": "o9TGRU4SHmXC"
      },
      "source": [
        "### 4- Create a 3x3 matrix with values ranging from 0 to 8"
      ]
    },
    {
      "cell_type": "code",
      "metadata": {
        "id": "9zLNT9s5HegE",
        "colab": {
          "base_uri": "https://localhost:8080/"
        },
        "outputId": "3d651ab3-ad36-464d-fb40-cb5554b84928"
      },
      "source": [
        "################################################################################\n",
        "#                              START OF YOUR CODE                                #\n",
        "################################################################################\n",
        "\n",
        "\n",
        "#your code should be here\n",
        "x =np.arange(9).reshape(3,3)\n",
        "x\n",
        " \n",
        "################################################################################\n",
        "#                              END OF YOUR CODE                                #\n",
        "################################################################################"
      ],
      "execution_count": null,
      "outputs": [
        {
          "output_type": "execute_result",
          "data": {
            "text/plain": [
              "array([[0, 1, 2],\n",
              "       [3, 4, 5],\n",
              "       [6, 7, 8]])"
            ]
          },
          "metadata": {
            "tags": []
          },
          "execution_count": 9
        }
      ]
    },
    {
      "cell_type": "markdown",
      "metadata": {
        "id": "cBO_WV_UH6S0"
      },
      "source": [
        "### 5- Create a 10x10 array with random values and print the trace value and the mean values of each row"
      ]
    },
    {
      "cell_type": "code",
      "metadata": {
        "id": "YUYulMHjH_Nu",
        "colab": {
          "base_uri": "https://localhost:8080/"
        },
        "outputId": "9e461b9a-0299-4c65-a825-8ff1a4229a1c"
      },
      "source": [
        "################################################################################\n",
        "#                              START OF YOUR CODE                                #\n",
        "################################################################################\n",
        "\n",
        "x=np.random.random((10,10))\n",
        "print(np.trace(x))\n",
        "#your code should be here\n",
        " \n",
        "################################################################################\n",
        "#                              END OF YOUR CODE                                #\n",
        "################################################################################"
      ],
      "execution_count": null,
      "outputs": [
        {
          "output_type": "stream",
          "text": [
            "3.5972049614666393\n"
          ],
          "name": "stdout"
        }
      ]
    },
    {
      "cell_type": "markdown",
      "metadata": {
        "id": "stsLWALeIy2E"
      },
      "source": [
        "### 6- Create a Ndarray array of size (5, 5) with all **1** on the borders and all **0** in the inside\n"
      ]
    },
    {
      "cell_type": "code",
      "metadata": {
        "id": "oo1o0TIVJH91",
        "colab": {
          "base_uri": "https://localhost:8080/"
        },
        "outputId": "55a2e0c1-2e46-4d7b-fddb-96d128ac8bd4"
      },
      "source": [
        "################################################################################\n",
        "#                              START OF YOUR CODE                                #\n",
        "################################################################################\n",
        "\n",
        "\n",
        "#your code should be here\n",
        "x =np.zeros((5,5))\n",
        "x[0]=1\n",
        "x[-1]=1\n",
        "x[:,0]=1\n",
        "x[:,-1]=1\n",
        "x\n",
        " \n",
        "################################################################################\n",
        "#                              END OF YOUR CODE                                #\n",
        "################################################################################"
      ],
      "execution_count": null,
      "outputs": [
        {
          "output_type": "execute_result",
          "data": {
            "text/plain": [
              "array([[1., 1., 1., 1., 1.],\n",
              "       [1., 0., 0., 0., 1.],\n",
              "       [1., 0., 0., 0., 1.],\n",
              "       [1., 0., 0., 0., 1.],\n",
              "       [1., 1., 1., 1., 1.]])"
            ]
          },
          "metadata": {
            "tags": []
          },
          "execution_count": 45
        }
      ]
    },
    {
      "cell_type": "markdown",
      "metadata": {
        "id": "b2RIrBwHNW0T"
      },
      "source": [
        "### 7- Create random vector of size 10 and replace the maximum value by 0"
      ]
    },
    {
      "cell_type": "code",
      "metadata": {
        "id": "_XeAoZQXNc0q",
        "colab": {
          "base_uri": "https://localhost:8080/"
        },
        "outputId": "502448e0-2949-4b3e-85cd-2bfb8f458de3"
      },
      "source": [
        "################################################################################\n",
        "#                              START OF YOUR CODE                                #\n",
        "################################################################################\n",
        "\n",
        "\n",
        "#your code should be here\n",
        "x=np.random.random(10)\n",
        "x[x.argmax()]=0\n",
        "x\n",
        "\n",
        " \n",
        "################################################################################\n",
        "#                              END OF YOUR CODE                                #\n",
        "################################################################################"
      ],
      "execution_count": null,
      "outputs": [
        {
          "output_type": "execute_result",
          "data": {
            "text/plain": [
              "array([0.76978862, 0.16426905, 0.31016702, 0.41756478, 0.31779743,\n",
              "       0.14791595, 0.5913324 , 0.02353595, 0.        , 0.50406696])"
            ]
          },
          "metadata": {
            "tags": []
          },
          "execution_count": 37
        }
      ]
    },
    {
      "cell_type": "markdown",
      "metadata": {
        "id": "ugzcoy0MJW6t"
      },
      "source": [
        "### 8- Normalize a 5x5 random matrix\n",
        "Hint: subtract the mean and devide by the standard deviation"
      ]
    },
    {
      "cell_type": "code",
      "metadata": {
        "id": "7RoQFsPdJ3k1",
        "colab": {
          "base_uri": "https://localhost:8080/"
        },
        "outputId": "ce73c6b3-12a5-4edd-85ba-a25e1a2553cb"
      },
      "source": [
        "################################################################################\n",
        "#                              START OF YOUR CODE                                #\n",
        "################################################################################\n",
        "\n",
        "\n",
        "#your code should be here\n",
        "x =np.random.random((5,5))\n",
        "x_mean=np.mean(x)\n",
        "x_std = np.std(x)\n",
        "norm_x =(x-x_mean)/x_std\n",
        "norm_x\n",
        "\n",
        " \n",
        "################################################################################\n",
        "#                              END OF YOUR CODE                                #\n",
        "################################################################################"
      ],
      "execution_count": null,
      "outputs": [
        {
          "output_type": "execute_result",
          "data": {
            "text/plain": [
              "array([[ 1.37347323,  0.25264156, -0.87349294, -1.65273127,  1.4293612 ],\n",
              "       [-1.21275126,  1.3557792 ,  1.08509354,  0.58980815, -1.0775575 ],\n",
              "       [-1.29147902, -1.70719096, -1.35779262,  0.00536013, -0.47045045],\n",
              "       [ 0.99467067, -0.66624016, -0.06337232, -0.31841546,  0.67499293],\n",
              "       [-0.14492012,  0.16340243,  0.99664892,  0.96882277,  0.94633938]])"
            ]
          },
          "metadata": {
            "tags": []
          },
          "execution_count": 49
        }
      ]
    },
    {
      "cell_type": "markdown",
      "metadata": {
        "id": "iiOCoeT2JXZc"
      },
      "source": [
        "### 9- Create a random 5x2 matrix representing cartesian coordinates and print an array **\"polar\"** with same shape representing the converted polar coordinates.\n",
        "\n",
        "Hints:\n",
        "\n",
        "X represent the first column.\n",
        "\n",
        "Y represent the second column.\n",
        "\n",
        "Compute:\n",
        "\n",
        "$$ R = \\sqrt{X^2 + Y^2} $$\n",
        "\n",
        "$$ T = \\arctan{(Y, X)} $$\n"
      ]
    },
    {
      "cell_type": "code",
      "metadata": {
        "id": "TbUE_U-xMXV8",
        "colab": {
          "base_uri": "https://localhost:8080/"
        },
        "outputId": "269074b3-1999-4ed0-b766-7ded11ddf4ad"
      },
      "source": [
        "################################################################################\n",
        "#                              START OF YOUR CODE                                #\n",
        "################################################################################\n",
        "\n",
        "\n",
        "#your code should be here\n",
        "m =np.random.random((5,2))\n",
        "x=m[:,0]\n",
        "y=m[:,1]\n",
        "R=np.sqrt(x**2 +y**2)\n",
        "T=np.arctan2(y,x)\n",
        "polar = np.dstack((R,T))\n",
        "polar\n",
        "################################################################################\n",
        "#                              END OF YOUR CODE                                #\n",
        "################################################################################"
      ],
      "execution_count": null,
      "outputs": [
        {
          "output_type": "execute_result",
          "data": {
            "text/plain": [
              "array([[[0.97781253, 1.47303919],\n",
              "        [0.88539287, 0.30090966],\n",
              "        [1.26294433, 0.85147795],\n",
              "        [1.00504193, 0.28021173],\n",
              "        [0.19327217, 0.19608701]]])"
            ]
          },
          "metadata": {
            "tags": []
          },
          "execution_count": 86
        }
      ]
    },
    {
      "cell_type": "markdown",
      "metadata": {
        "id": "Hf8qYHpwjwEM"
      },
      "source": [
        "\n",
        "\n",
        "---\n",
        "\n",
        "\n",
        "\n",
        "---\n",
        "\n",
        "\n",
        "\n",
        "---\n",
        "\n"
      ]
    },
    {
      "cell_type": "markdown",
      "metadata": {
        "id": "VcrY3EvaeElV"
      },
      "source": [
        "### 10- Write a function that normalizes the columns of a matrix. It should compute the mean and standard deviation of each column, then subtract the mean and divide by the standard deviation for each element in the column. \n",
        "\n",
        "Example:\n",
        "```\n",
        "x = [[ 0,  30,  600],\n",
        "     [ 1,  10,  200],\n",
        "     [-1,  20,  400]]\n",
        "```\n",
        "- The first column has mean 0 and std 1\n",
        "- The second column has mean 20 and std 10\n",
        "- The third column has mean 400 and std 200\n",
        "\n",
        "After normalizing the columns, the result should be:\n",
        "```\n",
        "y = [[ 0,  1,  1],\n",
        "     [ 1, -1, -1],\n",
        "     [-1,  0,  0]]\n",
        "```\n",
        "\n",
        "Your implementation should not use any loops; instead you should use reduction and broadcasting operations."
      ]
    },
    {
      "cell_type": "code",
      "metadata": {
        "id": "xrFy1XOgqfeL"
      },
      "source": [
        "x = np.array([[ 0,  30,  600],\n",
        "     [ 1,  10,  200],\n",
        "     [-1,  20,  400]])"
      ],
      "execution_count": null,
      "outputs": []
    },
    {
      "cell_type": "code",
      "metadata": {
        "id": "92GajfUpqjDe"
      },
      "source": [
        ""
      ],
      "execution_count": null,
      "outputs": []
    },
    {
      "cell_type": "code",
      "metadata": {
        "id": "1Hw72yb3eGiG"
      },
      "source": [
        "\n",
        "\n",
        "################################################################################\n",
        "#                              START OF YOUR CODE                                #\n",
        "################################################################################\n",
        "def normalize_columns(x):\n",
        "  mean =x.mean(axis=0)\n",
        "  std =x.std(axis=0)\n",
        "  norm =(x-mean)/std\n",
        "  return norm\n",
        "\n",
        "\n",
        "\n",
        "\n",
        "  # x: (input) Ndarray of shape (N, M) (don't modefy it: use copy())\n",
        "  # y: (return) Ndarray of shape (N, M) normalized by the columns\n",
        "  \n",
        "  #your code should be here\n",
        " \n",
        "################################################################################\n",
        "#                              END OF YOUR CODE                                #\n",
        "################################################################################"
      ],
      "execution_count": null,
      "outputs": []
    },
    {
      "cell_type": "code",
      "metadata": {
        "id": "AhMuCL9AfcFH",
        "colab": {
          "base_uri": "https://localhost:8080/"
        },
        "outputId": "1ec214d9-4b7a-4d5f-a259-3aea346a8fad"
      },
      "source": [
        "x0 = np.array([[0., 30., 600.], [1., 10., 200.], [-1., 20., 400.]])\n",
        "y0 = normalize_columns(x0)\n",
        "print('Here is x0:')\n",
        "print(x0)\n",
        "print('Here is y0:')\n",
        "print(y0)\n",
        "assert y0.tolist() == [[0., 1.224744871391589, 1.224744871391589], [1.224744871391589, -1.224744871391589, -1.224744871391589], [-1.224744871391589, 0., 0.]]\n",
        "assert x0.tolist() == [[0., 30., 600.], [1., 10., 200.], [-1., 20., 400.]]"
      ],
      "execution_count": null,
      "outputs": [
        {
          "output_type": "stream",
          "text": [
            "Here is x0:\n",
            "[[  0.  30. 600.]\n",
            " [  1.  10. 200.]\n",
            " [ -1.  20. 400.]]\n",
            "Here is y0:\n",
            "[[ 0.          1.22474487  1.22474487]\n",
            " [ 1.22474487 -1.22474487 -1.22474487]\n",
            " [-1.22474487  0.          0.        ]]\n"
          ],
          "name": "stdout"
        }
      ]
    },
    {
      "cell_type": "markdown",
      "metadata": {
        "id": "lnq9TiIcjtfo"
      },
      "source": [
        "\n",
        "\n",
        "---\n",
        "\n",
        "\n",
        "\n",
        "---\n",
        "\n",
        "\n",
        "\n",
        "---\n",
        "\n"
      ]
    },
    {
      "cell_type": "markdown",
      "metadata": {
        "id": "5cgmy-NcMnVQ"
      },
      "source": [
        "### 11- creates a function that returns a matrix of **one-hot vectors** from a list of Python integers. A one-hot vector for an integer $n$ is a vector that has a one in its $n$th slot, and zeros in all other slots. One-hot vectors are commonly used to represent categorical variables in machine learning models.\n",
        "\n",
        "### For example, given a list `[1, 4, 3, 2]` of integers, your function should produce the tensor:\n",
        "\n",
        "```\n",
        "[[0 1 0 0 0],\n",
        " [0 0 0 0 1],\n",
        " [0 0 0 1 0],\n",
        " [0 0 1 0 0]]\n",
        "```\n",
        "\n",
        "### Here the first row corresponds to the first element of the list: it has a one at index 1, and zeros at all other indices. The second row corresponds to the second element of the list: it has a one at index 4, and zeros at all other indices. The other rows follow the same pattern. "
      ]
    },
    {
      "cell_type": "code",
      "metadata": {
        "id": "PVF3dD8_M_iv"
      },
      "source": [
        "################################################################################\n",
        "#                              START OF YOUR CODE                                #\n",
        "################################################################################\n",
        "def make_one_hot(x):\n",
        "  size =np.max(x)+1\n",
        "  print(size)\n",
        "  print(\"****\")\n",
        "  new_x =np.array(x)\n",
        "  print(new_x)\n",
        "  idx =np.where(new_x==new_x)\n",
        "  print(f'{idx} the index')\n",
        "  ohe =np.zeros((size-1,size))\n",
        "  ohe[idx,x]=1\n",
        "  return ohe\n",
        "  \n",
        "\n",
        "\n",
        "  #x: (input) A list of n ints\n",
        "  \n",
        "  #your code should be here\n",
        "################################################################################\n",
        "#                              END OF YOUR CODE                                #\n",
        "################################################################################"
      ],
      "execution_count": null,
      "outputs": []
    },
    {
      "cell_type": "code",
      "metadata": {
        "colab": {
          "base_uri": "https://localhost:8080/"
        },
        "id": "xXLnkvSFYz5A",
        "outputId": "04e85f54-fbc4-43de-c99e-10b4cd6a3a6a"
      },
      "source": [
        "x0 = [1, 4, 3, 2]\n",
        "y0 = make_one_hot(x0)\n",
        "y0"
      ],
      "execution_count": null,
      "outputs": [
        {
          "output_type": "stream",
          "text": [
            "5\n",
            "****\n",
            "[1 4 3 2]\n",
            "(array([0, 1, 2, 3]),) the index\n"
          ],
          "name": "stdout"
        },
        {
          "output_type": "execute_result",
          "data": {
            "text/plain": [
              "array([[0., 1., 0., 0., 0.],\n",
              "       [0., 0., 0., 0., 1.],\n",
              "       [0., 0., 0., 1., 0.],\n",
              "       [0., 0., 1., 0., 0.]])"
            ]
          },
          "metadata": {
            "tags": []
          },
          "execution_count": 114
        }
      ]
    },
    {
      "cell_type": "markdown",
      "metadata": {
        "id": "YmeIDy2fZxw0"
      },
      "source": [
        "Run the following cell to check your implementation, you must see 'all checks pass!' message"
      ]
    },
    {
      "cell_type": "code",
      "metadata": {
        "id": "CGmylzqIM-hd",
        "colab": {
          "base_uri": "https://localhost:8080/"
        },
        "outputId": "8ca82349-f8bf-4c1e-ddad-9d41fcf43c14"
      },
      "source": [
        "def check_one_hot(x, y):\n",
        "  C = y.shape[1]\n",
        "  for i, n in enumerate(x):\n",
        "    if n >= C: return False\n",
        "    for j in range(C):\n",
        "      expected = 1.0 if j == n else 0.0\n",
        "      if y[i, j].item() != expected: return False\n",
        "  return True\n",
        "      \n",
        "x0 = [1, 4, 3, 2]\n",
        "y0 = make_one_hot(x0)\n",
        "print('Here is y0:')\n",
        "print(y0)\n",
        "assert check_one_hot(x0, y0), 'y0 is wrong'\n",
        "\n",
        "x1 = [1, 3, 5, 7, 6, 2]\n",
        "y1 = make_one_hot(x1)\n",
        "print('\\nHere is y1:')\n",
        "print(y1)\n",
        "assert check_one_hot(x1, y1), 'y1 is wrong'\n",
        "\n",
        "print('all checks pass!')"
      ],
      "execution_count": null,
      "outputs": [
        {
          "output_type": "stream",
          "text": [
            "5\n",
            "****\n",
            "[1 4 3 2]\n",
            "(array([0, 1, 2, 3]),) the index\n",
            "Here is y0:\n",
            "[[0. 1. 0. 0. 0.]\n",
            " [0. 0. 0. 0. 1.]\n",
            " [0. 0. 0. 1. 0.]\n",
            " [0. 0. 1. 0. 0.]]\n",
            "8\n",
            "****\n",
            "[1 3 5 7 6 2]\n",
            "(array([0, 1, 2, 3, 4, 5]),) the index\n",
            "\n",
            "Here is y1:\n",
            "[[0. 1. 0. 0. 0. 0. 0. 0.]\n",
            " [0. 0. 0. 1. 0. 0. 0. 0.]\n",
            " [0. 0. 0. 0. 0. 1. 0. 0.]\n",
            " [0. 0. 0. 0. 0. 0. 0. 1.]\n",
            " [0. 0. 0. 0. 0. 0. 1. 0.]\n",
            " [0. 0. 1. 0. 0. 0. 0. 0.]\n",
            " [0. 0. 0. 0. 0. 0. 0. 0.]]\n",
            "all checks pass!\n"
          ],
          "name": "stdout"
        }
      ]
    },
    {
      "cell_type": "markdown",
      "metadata": {
        "id": "oEwW4WoiJI3Q"
      },
      "source": [
        "\n",
        "\n",
        "---\n",
        "\n",
        "\n",
        "\n",
        "---\n",
        "\n",
        "\n",
        "\n",
        "---\n",
        "\n"
      ]
    },
    {
      "cell_type": "markdown",
      "metadata": {
        "id": "RQKJ1ge2uCyC"
      },
      "source": [
        "# Exercise B:\n",
        "\n",
        "### Maximum Likelihood\n",
        "Find the maximum likelihood estimation of parameters $\\boldsymbol\\theta$.\n",
        "\n",
        "Given:\n",
        "\n",
        "$$\n",
        "\\boldsymbol X \\in\\mathbb{R}^{N\\times D} \\quad \\boldsymbol y  \\in\\mathbb{R}^N\n",
        "$$\n",
        "\n",
        "Steps to follow:\n",
        "\n",
        "\n",
        "1.   Initialize Ndarray **X** from a normal distribution with shapes: N = 10 and D = 5.\n",
        "2.   Initialize Ndarray **y** with all ones with shape N = 10 and reshape it to have the shape (N, 1).\n",
        "3.   Compute the maximum likelihood estimation of parameters $\\boldsymbol\\theta$ following the equation and assign it to a variable called **theta**\n",
        "\n",
        "$$\n",
        "\\boldsymbol\\theta = (\\boldsymbol X^T\\boldsymbol X)^{-1}\\boldsymbol X^T\\boldsymbol y\\in\\mathbb{R}^D\n",
        "$$\n",
        "\n",
        "4. print the value of **theta**\n",
        "\n",
        "Hint: check the inverse method from the linear algebra module in Numpy"
      ]
    },
    {
      "cell_type": "code",
      "metadata": {
        "id": "rxshu5NIuBva",
        "colab": {
          "base_uri": "https://localhost:8080/"
        },
        "outputId": "18cfe440-6d14-4173-80f1-00ab186b9185"
      },
      "source": [
        "################################################################################\n",
        "# TODO: Compute the maximum likelihood estimation of parameters theta\n",
        "#       following the equation\n",
        "################################################################################\n",
        "x =np.random.randn(10,5)\n",
        "y =np.ones((10,1))\n",
        "theta  =np.linalg.inv(x.T@x)@(x.T@y)\n",
        "print(theta)\n",
        "\n",
        "#your code should be here\n",
        "\n",
        " \n",
        "################################################################################\n",
        "#                              END OF YOUR CODE                                #\n",
        "################################################################################"
      ],
      "execution_count": null,
      "outputs": [
        {
          "output_type": "stream",
          "text": [
            "[[ 0.33320029]\n",
            " [-0.60357389]\n",
            " [-0.45839431]\n",
            " [ 0.1899204 ]\n",
            " [-0.48163679]]\n"
          ],
          "name": "stdout"
        }
      ]
    },
    {
      "cell_type": "markdown",
      "metadata": {
        "id": "3wzi6tdVzPwt"
      },
      "source": [
        "\n",
        "\n",
        "---\n",
        "\n",
        "\n",
        "\n",
        "---\n",
        "\n",
        "\n",
        "\n",
        "---\n",
        "\n"
      ]
    },
    {
      "cell_type": "markdown",
      "metadata": {
        "id": "ty0GckhNlpwf"
      },
      "source": [
        "# Exercise B:\n",
        "\n",
        "### The Log Likelihood\n",
        "\n",
        "Find the log likelihood estimation for input X, label y, parameterized by $\\boldsymbol\\theta$.\n",
        "\n",
        "Given:\n",
        "\n",
        "$$\n",
        "\\boldsymbol X \\in\\mathbb{R}^{N\\times D} \\quad \\boldsymbol y  \\in\\mathbb{R}^N \\quad \\boldsymbol \\theta  \\in\\mathbb{R}^D\n",
        "$$\n",
        "\n",
        "steps to follow:\n",
        "\n",
        "1.   Initialize Ndarray **X** from a normal distribution with shapes: N = 10 and D = 5.\n",
        "2.   Initialize Ndarray **y** with all ones with shape N = 10 and reshape it to have the shape (N, 1).\n",
        "3.   Initialize Ndarray **theta** randomly with shape D = 5 and reshape it to have the shape (D, 1).\n",
        "4.   Compute the the probability of a all data points $(\\boldsymbol x, y)$ being of class 1, given by\n",
        "\n",
        "$$p(y = 1 | \\boldsymbol X, \\boldsymbol\\theta) = 1.0/(1.0+\\exp(- \\boldsymbol X \\boldsymbol \\theta))$$\n",
        "\n",
        "5. compute the log Likelihood, given by:\n",
        "$$\\log p(\\boldsymbol y|\\boldsymbol X, \\boldsymbol\\theta) = \\sum_i y_i * \\log (p(y = 1 | \\boldsymbol x, \\boldsymbol\\theta) + (1 - y_i) * \\log ( 1 - p(y = 1 | \\boldsymbol x, \\boldsymbol\\theta))$$\n",
        "\n",
        "6. print the log Likelihood"
      ]
    },
    {
      "cell_type": "code",
      "metadata": {
        "id": "5sm7MTZcoAmH",
        "colab": {
          "base_uri": "https://localhost:8080/"
        },
        "outputId": "513b967f-8d26-40ac-b607-328d2e4a6f4c"
      },
      "source": [
        "################################################################################\n",
        "# TODO: Compute the log likelihood \n",
        "#    \n",
        "################################################################################\n",
        "\n",
        "\n",
        "#your code should be here\n",
        "x =np.random.randn(10,5)\n",
        "#print(x)\n",
        "y =np.ones((10,1))\n",
        "#print(\"**********************************\")\n",
        "#print(y)\n",
        "theta =np.random.random((5,1))\n",
        "pr =1.0/(1.0 +np.exp(-x@theta))\n",
        "logpr =np.sum(y*np.log(pr)+(1.0-y)*np.log(1-pr))\n",
        "#print(\"************************************\")\n",
        "print(logpr)\n",
        "\n",
        "\n",
        " \n",
        "################################################################################\n",
        "#                              END OF YOUR CODE                                #\n",
        "################################################################################"
      ],
      "execution_count": null,
      "outputs": [
        {
          "output_type": "stream",
          "text": [
            "[[ 0.74215646  0.19702398  2.340987    0.45038197  1.7922427 ]\n",
            " [ 0.45316983 -0.70206179  0.2089869  -0.44675242  0.45896705]\n",
            " [ 0.16948911 -0.89022933  2.57323     0.01247576 -1.57253636]\n",
            " [-0.34876691 -0.01026064  1.13627173  1.89426929 -1.01982859]\n",
            " [-0.98399903  0.15986488  0.05459021  0.38934659  1.86394253]\n",
            " [ 0.59953528 -0.05050186 -1.07630511  0.05319519  1.0223362 ]\n",
            " [-2.78064771 -0.10031491  0.02694777 -0.43336346  0.72145835]\n",
            " [ 0.68166813  1.77815058  1.23375622 -1.24676001 -1.96868173]\n",
            " [-0.83454924 -0.57540559 -0.65159958  0.03836248  0.02140103]\n",
            " [-1.70426134 -0.51316496  1.29864775  1.99487861 -0.10549219]]\n",
            "-7.744126516525118\n"
          ],
          "name": "stdout"
        }
      ]
    },
    {
      "cell_type": "code",
      "metadata": {
        "id": "a3lhTXpcOV_c"
      },
      "source": [
        ""
      ],
      "execution_count": null,
      "outputs": []
    }
  ]
}