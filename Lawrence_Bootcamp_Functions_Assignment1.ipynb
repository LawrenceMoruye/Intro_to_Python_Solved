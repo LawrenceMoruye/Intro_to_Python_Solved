{
  "nbformat": 4,
  "nbformat_minor": 0,
  "metadata": {
    "colab": {
      "name": "Lawrence_Bootcamp_Functions_Assignment1.ipynb",
      "provenance": []
    },
    "kernelspec": {
      "name": "python3",
      "display_name": "Python 3"
    }
  },
  "cells": [
    {
      "cell_type": "code",
      "metadata": {
        "colab": {
          "base_uri": "https://localhost:8080/"
        },
        "id": "rQEnA_R6ynmm",
        "outputId": "765f4fe8-456c-4db0-ee32-6195f2a2cfa2"
      },
      "source": [
        "#Number 1\n",
        "import math\n",
        "def h(t):\n",
        "  return math.exp(-t) * math.sin(math.pi *t)\n",
        "\n",
        "print(h(1))\n",
        "print(h(0))"
      ],
      "execution_count": null,
      "outputs": [
        {
          "output_type": "stream",
          "text": [
            "4.505223801027239e-17\n",
            "0.0\n"
          ],
          "name": "stdout"
        }
      ]
    },
    {
      "cell_type": "code",
      "metadata": {
        "colab": {
          "base_uri": "https://localhost:8080/"
        },
        "id": "qZ1AwXfM2CdF",
        "outputId": "0293c950-6a6a-4ec9-ecc8-ad935a0bff6f"
      },
      "source": [
        "#Number 2\n",
        "import math\n",
        "def g(t,a):\n",
        "  return math.exp(-a) * math.sin(math.pi *t)\n",
        "\n",
        "print(g(0,10))\n",
        "print(g(1,10))"
      ],
      "execution_count": null,
      "outputs": [
        {
          "output_type": "stream",
          "text": [
            "0.0\n",
            "5.559887866514173e-21\n"
          ],
          "name": "stdout"
        }
      ]
    },
    {
      "cell_type": "code",
      "metadata": {
        "colab": {
          "base_uri": "https://localhost:8080/"
        },
        "id": "G6K1W5Xq2D9H",
        "outputId": "8f5fc216-2ef7-446a-971e-6f12aa58ffd3"
      },
      "source": [
        "#Number 3\n",
        "def gaussian_func(x,m=0,s=1):\n",
        "  return (1/math.sqrt(2*s*math.pi))*math.exp(-0.5*((x-m)/s)**2)\n",
        "m =5\n",
        "s =1\n",
        "n=10\n",
        "for x in range(m-5*s, m+5*s):\n",
        "  print(\"{} --{}\".format(x,gaussian_func(x,m,s)))\n"
      ],
      "execution_count": null,
      "outputs": [
        {
          "output_type": "stream",
          "text": [
            "5 --1.4867195147342977e-06\n",
            "6 --0.00013383022576488537\n",
            "7 --0.0044318484119380075\n",
            "8 --0.05399096651318806\n",
            "9 --0.24197072451914337\n",
            "10 --0.3989422804014327\n",
            "11 --0.24197072451914337\n",
            "12 --0.05399096651318806\n",
            "13 --0.0044318484119380075\n",
            "14 --0.00013383022576488537\n"
          ],
          "name": "stdout"
        }
      ]
    },
    {
      "cell_type": "code",
      "metadata": {
        "colab": {
          "base_uri": "https://localhost:8080/"
        },
        "id": "KoXO1Fni2FZ5",
        "outputId": "ac02bd32-b72e-4a74-dfe8-682494b64a1b"
      },
      "source": [
        "#Number 4\n",
        "def factorial(n):\n",
        "  if n<=1:\n",
        "    return 1\n",
        "\n",
        "  else:\n",
        "    return n *factorial(n-1)\n",
        "factorial(5)"
      ],
      "execution_count": null,
      "outputs": [
        {
          "output_type": "execute_result",
          "data": {
            "text/plain": [
              "120"
            ]
          },
          "metadata": {
            "tags": []
          },
          "execution_count": 34
        }
      ]
    },
    {
      "cell_type": "code",
      "metadata": {
        "colab": {
          "base_uri": "https://localhost:8080/"
        },
        "id": "22_8dyOZ2IcR",
        "outputId": "4b2dd03e-91fe-44e0-cbba-4b1c5defda5b"
      },
      "source": [
        "#Number 5\n",
        "def minimum_max(l):\n",
        "  min,max =l[0],l[0]\n",
        "  for val in l:\n",
        "    if min>val:\n",
        "      min =val\n",
        "    if max<val:\n",
        "      max = val\n",
        "  return min,max\n",
        "\n",
        "n =10\n",
        "a = -(math.pi/2)\n",
        "b =math.pi*2\n",
        "h = (b-a)/(n-1)\n",
        "Xis =[(a +i*h) for i in range(1,n)]\n",
        "sinx =[math.sin(x) for x in Xis]\n",
        "minimun,maximun = minimum_max(sinx)\n",
        "print(minimun)\n",
        "print(maximun)"
      ],
      "execution_count": null,
      "outputs": [
        {
          "output_type": "stream",
          "text": [
            "-0.984807753012208\n",
            "0.9396926207859084\n"
          ],
          "name": "stdout"
        }
      ]
    },
    {
      "cell_type": "code",
      "metadata": {
        "id": "W4M3stqFhTFt"
      },
      "source": [
        ""
      ],
      "execution_count": null,
      "outputs": []
    },
    {
      "cell_type": "code",
      "metadata": {
        "colab": {
          "base_uri": "https://localhost:8080/"
        },
        "id": "cJ-yWdl42LIP",
        "outputId": "bb2d4b95-380b-46b9-9628-075787f5ce04"
      },
      "source": [
        "#Number 6\n",
        "def get_dna(dna,num):\n",
        "  return dna.count(num)\n",
        "\n",
        "get_dna(\"ACTGCTATCCATT\",'AT')"
      ],
      "execution_count": null,
      "outputs": [
        {
          "output_type": "execute_result",
          "data": {
            "text/plain": [
              "2"
            ]
          },
          "metadata": {
            "tags": []
          },
          "execution_count": 49
        }
      ]
    },
    {
      "cell_type": "code",
      "metadata": {
        "colab": {
          "base_uri": "https://localhost:8080/"
        },
        "id": "_Blt3EsU2M_M",
        "outputId": "72a0ac3d-534b-44c0-9214-e695034c24e8"
      },
      "source": [
        "#Number 7\n",
        "def dna_complementary(dna):\n",
        "  list_ =list(dna)\n",
        "  for i in range(len(dna)):\n",
        "    if dna[i] =='A':\n",
        "      list_[i]= \"T\"\n",
        "    elif dna[i] ==\"G\":\n",
        "      list_[i]=\"C\"\n",
        "\n",
        "    elif dna[i] =='T':\n",
        "      list_[i] =\"A\"\n",
        "    elif dna[i] ==\"C\":\n",
        "      list_[i] = \"G\"\n",
        "  return list_\n",
        "\n",
        "x = dna_complementary(\"AAAGGC\")\n",
        "for char in x:\n",
        "  print(char,end='')"
      ],
      "execution_count": null,
      "outputs": [
        {
          "output_type": "stream",
          "text": [
            "TTTCCG"
          ],
          "name": "stdout"
        }
      ]
    },
    {
      "cell_type": "code",
      "metadata": {
        "id": "WzEratQT2OvH"
      },
      "source": [
        ""
      ],
      "execution_count": null,
      "outputs": []
    },
    {
      "cell_type": "code",
      "metadata": {
        "colab": {
          "base_uri": "https://localhost:8080/"
        },
        "id": "ZQVXuUthR3-l",
        "outputId": "a7575c27-afec-46e1-8440-19b942d17a80"
      },
      "source": [
        ""
      ],
      "execution_count": null,
      "outputs": [
        {
          "output_type": "stream",
          "text": [
            "TTTCCG"
          ],
          "name": "stdout"
        }
      ]
    },
    {
      "cell_type": "code",
      "metadata": {
        "id": "HtG814u-TrML"
      },
      "source": [
        ""
      ],
      "execution_count": null,
      "outputs": []
    }
  ]
}