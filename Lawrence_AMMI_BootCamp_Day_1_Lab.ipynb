{
  "nbformat": 4,
  "nbformat_minor": 0,
  "metadata": {
    "kernelspec": {
      "display_name": "Python 3",
      "language": "python",
      "name": "python3"
    },
    "language_info": {
      "codemirror_mode": {
        "name": "ipython",
        "version": 3
      },
      "file_extension": ".py",
      "mimetype": "text/x-python",
      "name": "python",
      "nbconvert_exporter": "python",
      "pygments_lexer": "ipython3",
      "version": "3.8.3"
    },
    "colab": {
      "name": "Lawrence_AMMI_BootCamp_Day_1_Lab.ipynb",
      "provenance": []
    }
  },
  "cells": [
    {
      "cell_type": "markdown",
      "metadata": {
        "id": "QW-M5DRYvSR9"
      },
      "source": [
        "## Exercise A\n",
        "\n",
        "1. Create a string containing a single quote.\n",
        "2. Create a string containing a double quote.\n",
        "3. Create a string containing both a single quote a double quote.\n",
        "4. Create a variable containing a first and last name and print them in reverse order with a space between them.\n"
      ]
    },
    {
      "cell_type": "code",
      "metadata": {
        "id": "F7YRCvBfvSSG",
        "colab": {
          "base_uri": "https://localhost:8080/"
        },
        "outputId": "97a9ef4a-3497-49c8-c831-9b823c1d42a2"
      },
      "source": [
        "# Your Code here\n",
        "string1 = \" '\"\n",
        "string2 = ' \" '\n",
        "string3 = '\"\\''\n",
        "\n",
        "full_name = \"Lawrence Moruye\"\n",
        "first_name,last_name =full_name.split(\" \")\n",
        "print('{1} {0}'.format(first_name,last_name) )"
      ],
      "execution_count": 53,
      "outputs": [
        {
          "output_type": "stream",
          "text": [
            "Moruye Lawrence\n"
          ],
          "name": "stdout"
        }
      ]
    },
    {
      "cell_type": "code",
      "metadata": {
        "colab": {
          "base_uri": "https://localhost:8080/"
        },
        "id": "G3oEiQkbiuFj",
        "outputId": "390af8ba-898a-48a2-88fa-ad6a071e69c8"
      },
      "source": [
        "print(string3)"
      ],
      "execution_count": 18,
      "outputs": [
        {
          "output_type": "stream",
          "text": [
            "\"'\n"
          ],
          "name": "stdout"
        }
      ]
    },
    {
      "cell_type": "markdown",
      "metadata": {
        "id": "c__ROXgtvSSH"
      },
      "source": [
        "## Exercise B\n",
        "\n",
        "1. Write a code to display the first and last word from the following String: **'This is my first assignment for week1'**\n",
        "2. Create a string ( providing the string represents a whole number), then obtain its integer representation.\n",
        "3. Given these strings:\n",
        "\n",
        "    s1 = 'abcd', \n",
        "    s2 = 'efgh'\n",
        "\n",
        "    Create a new string composed of the first string followed by (concatenated with)\n",
        "    the second.\n",
        "\n",
        "4. Create a single string containing 5 copies of the string 'abc'.\n",
        "5. Use the multiplication operator to create a \"line\" of 50 dashes.\n",
        "6. Strip all the whitespace characters off the right end of a string.\n",
        "7. Convert a string to all upper case.\n",
        "8. Write a sequence (string) of comma-separated numbers and generate a list with those numbers.\n",
        "9. Given a string of odd length greater than 7, return a string made of the middle three characters of the string.\n",
        "10. Given a string and an integer number n, remove characters from a string starting from zero up to n and return a new string.\n",
        "11. Given a string, return True if the first character and the last character of a the string is the same."
      ]
    },
    {
      "cell_type": "code",
      "metadata": {
        "id": "fWJSiBRMvSSI",
        "colab": {
          "base_uri": "https://localhost:8080/"
        },
        "outputId": "2b7d5a5d-df25-4491-bf7b-78590c1629c6"
      },
      "source": [
        "# Your Code here\n",
        "#quiz 1\n",
        "sent = \"'This is my first assignment for week1'\"\n",
        "print(sent.split()[0])\n",
        "print(sent.split()[-1])\n",
        "\n",
        "\n",
        "#quiz2\n",
        "dummy_str =\"4\"\n",
        "print(int(dummy_str))\n",
        "\n",
        "#quiz 3\n",
        "s1 = 'abcd'\n",
        "s2 = 'efgh'\n",
        "s1_s2 = s1 + s2 \n",
        "print(s1_s2)\n",
        "\n",
        "#quiz 4\n",
        "str_5_copies = \"abc\" *5\n",
        "print(str_5_copies)\n",
        "\n",
        "#quiz5\n",
        "line_50 = \"-\" *50\n",
        "print(line_50)\n",
        "\n",
        "#quiz 6\n",
        "strn = \"Lawrence \"\n",
        "print(strn.rstrip())\n",
        "\n",
        "#quuiz 7\n",
        "strin_lower =\"lawrence\"\n",
        "print(strin_lower.upper())\n",
        "\n",
        "#quiz8\n",
        "string_seq =\"4,4,5,6,7,8,9,0\"\n",
        "print(string_seq.split(\",\"))\n",
        "\n",
        "#quiz 9\n",
        "def middle3(string_):\n",
        "  middle = len(string_)//2\n",
        "  print(string_[middle-1:middle+2])\n",
        "message =\"thisisadumm\"\n",
        "middle3(message)\n",
        "\n",
        "#question 10\n",
        "def string_num(string_,n):\n",
        "  return string_[n+1:]\n",
        "string_num('myname',3)\n",
        "\n",
        "#quiz 11\n",
        "def checkfirst_last(string_):\n",
        "  if string_[0] == string_[-1]:\n",
        "    return True\n",
        "  else:\n",
        "    return False\n",
        "checkfirst_last(\"amaq\")"
      ],
      "execution_count": 48,
      "outputs": [
        {
          "output_type": "stream",
          "text": [
            "'This\n",
            "week1'\n",
            "4\n",
            "abcdefgh\n",
            "abcabcabcabcabc\n",
            "--------------------------------------------------\n",
            "Lawrence\n",
            "LAWRENCE\n",
            "['4', '4', '5', '6', '7', '8', '9', '0']\n",
            "isa\n"
          ],
          "name": "stdout"
        },
        {
          "output_type": "execute_result",
          "data": {
            "text/plain": [
              "False"
            ]
          },
          "metadata": {
            "tags": []
          },
          "execution_count": 48
        }
      ]
    },
    {
      "cell_type": "markdown",
      "metadata": {
        "id": "BtzwT_hyvSSI"
      },
      "source": [
        "## Exercise C: \n"
      ]
    },
    {
      "cell_type": "markdown",
      "metadata": {
        "id": "qmGZiUZKvSSJ"
      },
      "source": [
        "\n",
        "1. Write a code that take an integer (n) and computes the value of n+nn+nnn.\n",
        "\n",
        "2. Write a code that take the number of seconds, and calculate the number of minutes and seconds. For example, “130” you should print “2 minutes and 10 seconds”.\n",
        "3. Write the shorthand of the expression below:\n",
        "\n",
        "    x = 2\n",
        "\n",
        "    y = 3\n",
        "\n",
        "    z = 10\n",
        "\n",
        "    x = x + 1\n",
        "\n",
        "    y = y / 2\n",
        "\n",
        "    z = z * (x + y)\n",
        "  \n",
        "4. Initialize two variables to values 9 and 2 respectively. Then: increment each variable first by value 2 (means you update those variables using shortcut). print the variables before and after after incrementing.\n",
        "5. Integer divide the two variables (divide the larger value with the lower one), and assign the result to another variable called c.\n",
        "Print the variable c and make sure you have the desired result\n",
        "\n"
      ]
    },
    {
      "cell_type": "code",
      "metadata": {
        "id": "-B3qun8QvSSJ",
        "colab": {
          "base_uri": "https://localhost:8080/"
        },
        "outputId": "f603255a-0dd9-4fdd-90e7-e81de5a6b6bf"
      },
      "source": [
        "# Your Code Here\n",
        "#number 1\n",
        "def compute(n):\n",
        "  print( n+n*n +n*n*n)\n",
        "compute(2)\n",
        "\n",
        "\n",
        "#number 2\n",
        "def secs_to_mins(n):\n",
        "  mins =n//60\n",
        "  secs = n%60\n",
        "  print('{} minutes {} seconds'.format(mins,secs))\n",
        "\n",
        "secs_to_mins(130)\n",
        "\n",
        "#number 3\n",
        "x = 2\n",
        "y = 3\n",
        "z = 10\n",
        "\n",
        "x += 1\n",
        "y/= 2\n",
        "z *= (x + y)\n",
        "\n",
        "#number 4\n",
        "num1 = 9\n",
        "num2 = 2\n",
        "print('num1 :{} num2 :{}'.format(num1,num2))\n",
        "num1 +=2\n",
        "num2 +=2\n",
        "print('num1update :{} num2update :{}'.format(num1,num2))\n",
        "\n",
        "#number 5\n",
        "c =num1//num2\n",
        "print(c)"
      ],
      "execution_count": 58,
      "outputs": [
        {
          "output_type": "stream",
          "text": [
            "14\n",
            "2 minutes 10 seconds\n",
            "num1 :9 num2 :2\n",
            "num1update :11 num2update :4\n",
            "2\n"
          ],
          "name": "stdout"
        }
      ]
    },
    {
      "cell_type": "markdown",
      "metadata": {
        "id": "3rbm6JDKvSSJ"
      },
      "source": [
        "## Exercise D\n",
        "1. Given a two integer numbers print their product and  if the product is greater than 1000, then print their sum.\n",
        "2. Given two literal strings (containing only digits), calculate their sum and print it as a string.\n",
        "3. Write a code to calculate the sum of three given numbers, if the values are equal then print three times of their sum else print their sum.\n",
        "4.  Write a code to compute the distance between the points p1 = (x1, y1) and p2 = (x2, y2), (p1 and p2 are strings). Example: p1 and p2 can be declare as p1 = '(2, 3)', p2 = '(5, 6)'. (hint: use indexing for string, casting from str to int). \n",
        "5. Given two numbers print their product if their are odd numbers, their sum if they are even and their division in any other cases. "
      ]
    },
    {
      "cell_type": "code",
      "metadata": {
        "id": "VSQdowFovSSK"
      },
      "source": [
        "# Your Code here\n",
        "# question4\n",
        "# p1 = '(2, 3)'\n",
        "# p2 = '(5, 6)'"
      ],
      "execution_count": null,
      "outputs": []
    },
    {
      "cell_type": "code",
      "metadata": {
        "id": "omQrv5SkvSSL",
        "colab": {
          "base_uri": "https://localhost:8080/"
        },
        "outputId": "c052f397-f51a-4fb8-c28a-016065230015"
      },
      "source": [
        "#number 1\n",
        "def sum_prod(int1,int2):\n",
        "  prod =int1 *int2\n",
        "  sum = int1 +int2\n",
        "  if prod >1000:\n",
        "    print(sum)\n",
        "  else:\n",
        "    print(prod)\n",
        "\n",
        "sum_prod(4,5000)\n",
        "\n",
        "\n",
        "#Number 2\n",
        "def literal_string(x,y):\n",
        "  x_int = int(x)\n",
        "  y_int = int(y)\n",
        "  sum = x_int + y_int\n",
        "  print(str(sum))\n",
        "literal_string('4','45')\n",
        "\n",
        "#number 3\n",
        "def sum_of_three(x,y,z):\n",
        "  sum = x +y + z\n",
        "  if (x==y==z):\n",
        "    print(3 *sum)\n",
        "  else:\n",
        "    print(sum)\n",
        "\n",
        "sum_of_three(5,2,2)\n",
        "\n",
        "#Number 4\n",
        "p1 = '(2, 3)'\n",
        "p2 = '(5, 6)'\n",
        "print(int(p1[1]))\n",
        "import math\n",
        "def eucledian(p1,p2):\n",
        "  p1_x1 = int(p1[1])\n",
        "  p1_y1 = int(p1[4])\n",
        "  p2_x2 = int(p2[1])\n",
        "  p2_y2 = int(p2[4])\n",
        "  print(math.sqrt((p2_x2 -p1_x1)**2 + (p2_y2 - p1_y1)**2 ))\n",
        "\n",
        "eucledian(p1,p2)\n",
        "#Number 5\n",
        "def prod_sum_div(x,y):\n",
        "  sum = x + y\n",
        "  prod = x*y\n",
        "  div = x/y\n",
        "  if x%2 ==0 and y%2==0:\n",
        "    print(sum)\n",
        "  elif x%2 !=0 and y%2!=0:\n",
        "    print(prod)\n",
        "  else:\n",
        "    print(div)\n",
        "\n",
        "prod_sum_div(3,5)\n"
      ],
      "execution_count": 76,
      "outputs": [
        {
          "output_type": "stream",
          "text": [
            "5004\n",
            "49\n",
            "9\n",
            "2\n",
            "4.242640687119285\n",
            "15\n"
          ],
          "name": "stdout"
        }
      ]
    },
    {
      "cell_type": "code",
      "metadata": {
        "colab": {
          "base_uri": "https://localhost:8080/"
        },
        "id": "PS2X2B42-tJG",
        "outputId": "67917e27-39d3-43cf-b83b-2d10097f577c"
      },
      "source": [
        ""
      ],
      "execution_count": 75,
      "outputs": [
        {
          "output_type": "stream",
          "text": [
            "2\n",
            "4.242640687119285\n"
          ],
          "name": "stdout"
        }
      ]
    },
    {
      "cell_type": "code",
      "metadata": {
        "id": "NCykmPqvEmci"
      },
      "source": [
        ""
      ],
      "execution_count": null,
      "outputs": []
    }
  ]
}