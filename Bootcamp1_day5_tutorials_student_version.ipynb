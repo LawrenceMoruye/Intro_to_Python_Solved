{
  "nbformat": 4,
  "nbformat_minor": 0,
  "metadata": {
    "colab": {
      "name": "Bootcamp1_day5_tutorials_student_version.ipynb",
      "provenance": [],
      "collapsed_sections": []
    },
    "kernelspec": {
      "display_name": "Python 3",
      "name": "python3"
    }
  },
  "cells": [
    {
      "cell_type": "markdown",
      "metadata": {
        "id": "ov70EqtEJ0db"
      },
      "source": [
        "# Object-Oriented Programming with Python #"
      ]
    },
    {
      "cell_type": "markdown",
      "metadata": {
        "id": "7HIqoXzOJ-O5"
      },
      "source": [
        "Ex. A Lookahead! "
      ]
    },
    {
      "cell_type": "code",
      "metadata": {
        "colab": {
          "base_uri": "https://localhost:8080/"
        },
        "id": "YEb2lUWlsGYl",
        "outputId": "96b41f93-0f20-4c86-a99d-63b986385f0e"
      },
      "source": [
        "x = int() # A simple class\n",
        "print('type of x: ', type(x))\n",
        "print('value of x: ', x)"
      ],
      "execution_count": null,
      "outputs": [
        {
          "output_type": "stream",
          "text": [
            "type of x:  <class 'int'>\n",
            "value of x:  0\n"
          ],
          "name": "stdout"
        }
      ]
    },
    {
      "cell_type": "code",
      "metadata": {
        "colab": {
          "base_uri": "https://localhost:8080/"
        },
        "id": "kk_guljwKYiQ",
        "outputId": "21c4b619-74f5-4fef-8556-b04fb6d63cdc"
      },
      "source": [
        "help(int)"
      ],
      "execution_count": null,
      "outputs": [
        {
          "output_type": "stream",
          "text": [
            "Help on class int in module builtins:\n",
            "\n",
            "class int(object)\n",
            " |  int(x=0) -> integer\n",
            " |  int(x, base=10) -> integer\n",
            " |  \n",
            " |  Convert a number or string to an integer, or return 0 if no arguments\n",
            " |  are given.  If x is a number, return x.__int__().  For floating point\n",
            " |  numbers, this truncates towards zero.\n",
            " |  \n",
            " |  If x is not a number or if base is given, then x must be a string,\n",
            " |  bytes, or bytearray instance representing an integer literal in the\n",
            " |  given base.  The literal can be preceded by '+' or '-' and be surrounded\n",
            " |  by whitespace.  The base defaults to 10.  Valid bases are 0 and 2-36.\n",
            " |  Base 0 means to interpret the base from the string as an integer literal.\n",
            " |  >>> int('0b100', base=0)\n",
            " |  4\n",
            " |  \n",
            " |  Methods defined here:\n",
            " |  \n",
            " |  __abs__(self, /)\n",
            " |      abs(self)\n",
            " |  \n",
            " |  __add__(self, value, /)\n",
            " |      Return self+value.\n",
            " |  \n",
            " |  __and__(self, value, /)\n",
            " |      Return self&value.\n",
            " |  \n",
            " |  __bool__(self, /)\n",
            " |      self != 0\n",
            " |  \n",
            " |  __ceil__(...)\n",
            " |      Ceiling of an Integral returns itself.\n",
            " |  \n",
            " |  __divmod__(self, value, /)\n",
            " |      Return divmod(self, value).\n",
            " |  \n",
            " |  __eq__(self, value, /)\n",
            " |      Return self==value.\n",
            " |  \n",
            " |  __float__(self, /)\n",
            " |      float(self)\n",
            " |  \n",
            " |  __floor__(...)\n",
            " |      Flooring an Integral returns itself.\n",
            " |  \n",
            " |  __floordiv__(self, value, /)\n",
            " |      Return self//value.\n",
            " |  \n",
            " |  __format__(...)\n",
            " |      default object formatter\n",
            " |  \n",
            " |  __ge__(self, value, /)\n",
            " |      Return self>=value.\n",
            " |  \n",
            " |  __getattribute__(self, name, /)\n",
            " |      Return getattr(self, name).\n",
            " |  \n",
            " |  __getnewargs__(...)\n",
            " |  \n",
            " |  __gt__(self, value, /)\n",
            " |      Return self>value.\n",
            " |  \n",
            " |  __hash__(self, /)\n",
            " |      Return hash(self).\n",
            " |  \n",
            " |  __index__(self, /)\n",
            " |      Return self converted to an integer, if self is suitable for use as an index into a list.\n",
            " |  \n",
            " |  __int__(self, /)\n",
            " |      int(self)\n",
            " |  \n",
            " |  __invert__(self, /)\n",
            " |      ~self\n",
            " |  \n",
            " |  __le__(self, value, /)\n",
            " |      Return self<=value.\n",
            " |  \n",
            " |  __lshift__(self, value, /)\n",
            " |      Return self<<value.\n",
            " |  \n",
            " |  __lt__(self, value, /)\n",
            " |      Return self<value.\n",
            " |  \n",
            " |  __mod__(self, value, /)\n",
            " |      Return self%value.\n",
            " |  \n",
            " |  __mul__(self, value, /)\n",
            " |      Return self*value.\n",
            " |  \n",
            " |  __ne__(self, value, /)\n",
            " |      Return self!=value.\n",
            " |  \n",
            " |  __neg__(self, /)\n",
            " |      -self\n",
            " |  \n",
            " |  __new__(*args, **kwargs) from builtins.type\n",
            " |      Create and return a new object.  See help(type) for accurate signature.\n",
            " |  \n",
            " |  __or__(self, value, /)\n",
            " |      Return self|value.\n",
            " |  \n",
            " |  __pos__(self, /)\n",
            " |      +self\n",
            " |  \n",
            " |  __pow__(self, value, mod=None, /)\n",
            " |      Return pow(self, value, mod).\n",
            " |  \n",
            " |  __radd__(self, value, /)\n",
            " |      Return value+self.\n",
            " |  \n",
            " |  __rand__(self, value, /)\n",
            " |      Return value&self.\n",
            " |  \n",
            " |  __rdivmod__(self, value, /)\n",
            " |      Return divmod(value, self).\n",
            " |  \n",
            " |  __repr__(self, /)\n",
            " |      Return repr(self).\n",
            " |  \n",
            " |  __rfloordiv__(self, value, /)\n",
            " |      Return value//self.\n",
            " |  \n",
            " |  __rlshift__(self, value, /)\n",
            " |      Return value<<self.\n",
            " |  \n",
            " |  __rmod__(self, value, /)\n",
            " |      Return value%self.\n",
            " |  \n",
            " |  __rmul__(self, value, /)\n",
            " |      Return value*self.\n",
            " |  \n",
            " |  __ror__(self, value, /)\n",
            " |      Return value|self.\n",
            " |  \n",
            " |  __round__(...)\n",
            " |      Rounding an Integral returns itself.\n",
            " |      Rounding with an ndigits argument also returns an integer.\n",
            " |  \n",
            " |  __rpow__(self, value, mod=None, /)\n",
            " |      Return pow(value, self, mod).\n",
            " |  \n",
            " |  __rrshift__(self, value, /)\n",
            " |      Return value>>self.\n",
            " |  \n",
            " |  __rshift__(self, value, /)\n",
            " |      Return self>>value.\n",
            " |  \n",
            " |  __rsub__(self, value, /)\n",
            " |      Return value-self.\n",
            " |  \n",
            " |  __rtruediv__(self, value, /)\n",
            " |      Return value/self.\n",
            " |  \n",
            " |  __rxor__(self, value, /)\n",
            " |      Return value^self.\n",
            " |  \n",
            " |  __sizeof__(...)\n",
            " |      Returns size in memory, in bytes\n",
            " |  \n",
            " |  __str__(self, /)\n",
            " |      Return str(self).\n",
            " |  \n",
            " |  __sub__(self, value, /)\n",
            " |      Return self-value.\n",
            " |  \n",
            " |  __truediv__(self, value, /)\n",
            " |      Return self/value.\n",
            " |  \n",
            " |  __trunc__(...)\n",
            " |      Truncating an Integral returns itself.\n",
            " |  \n",
            " |  __xor__(self, value, /)\n",
            " |      Return self^value.\n",
            " |  \n",
            " |  bit_length(...)\n",
            " |      int.bit_length() -> int\n",
            " |      \n",
            " |      Number of bits necessary to represent self in binary.\n",
            " |      >>> bin(37)\n",
            " |      '0b100101'\n",
            " |      >>> (37).bit_length()\n",
            " |      6\n",
            " |  \n",
            " |  conjugate(...)\n",
            " |      Returns self, the complex conjugate of any int.\n",
            " |  \n",
            " |  from_bytes(...) from builtins.type\n",
            " |      int.from_bytes(bytes, byteorder, *, signed=False) -> int\n",
            " |      \n",
            " |      Return the integer represented by the given array of bytes.\n",
            " |      \n",
            " |      The bytes argument must be a bytes-like object (e.g. bytes or bytearray).\n",
            " |      \n",
            " |      The byteorder argument determines the byte order used to represent the\n",
            " |      integer.  If byteorder is 'big', the most significant byte is at the\n",
            " |      beginning of the byte array.  If byteorder is 'little', the most\n",
            " |      significant byte is at the end of the byte array.  To request the native\n",
            " |      byte order of the host system, use `sys.byteorder' as the byte order value.\n",
            " |      \n",
            " |      The signed keyword-only argument indicates whether two's complement is\n",
            " |      used to represent the integer.\n",
            " |  \n",
            " |  to_bytes(...)\n",
            " |      int.to_bytes(length, byteorder, *, signed=False) -> bytes\n",
            " |      \n",
            " |      Return an array of bytes representing an integer.\n",
            " |      \n",
            " |      The integer is represented using length bytes.  An OverflowError is\n",
            " |      raised if the integer is not representable with the given number of\n",
            " |      bytes.\n",
            " |      \n",
            " |      The byteorder argument determines the byte order used to represent the\n",
            " |      integer.  If byteorder is 'big', the most significant byte is at the\n",
            " |      beginning of the byte array.  If byteorder is 'little', the most\n",
            " |      significant byte is at the end of the byte array.  To request the native\n",
            " |      byte order of the host system, use `sys.byteorder' as the byte order value.\n",
            " |      \n",
            " |      The signed keyword-only argument determines whether two's complement is\n",
            " |      used to represent the integer.  If signed is False and a negative integer\n",
            " |      is given, an OverflowError is raised.\n",
            " |  \n",
            " |  ----------------------------------------------------------------------\n",
            " |  Data descriptors defined here:\n",
            " |  \n",
            " |  denominator\n",
            " |      the denominator of a rational number in lowest terms\n",
            " |  \n",
            " |  imag\n",
            " |      the imaginary part of a complex number\n",
            " |  \n",
            " |  numerator\n",
            " |      the numerator of a rational number in lowest terms\n",
            " |  \n",
            " |  real\n",
            " |      the real part of a complex number\n",
            "\n"
          ],
          "name": "stdout"
        }
      ]
    },
    {
      "cell_type": "markdown",
      "metadata": {
        "id": "gf2H8hWZ_WjI"
      },
      "source": [
        "\n",
        "##Other Python Built-In Classes ##\n",
        "* bool - holds boolean values\n",
        "* int - integers\n",
        "* float - floating-point numbers\n",
        "* list - sequence of objects\n",
        "* tuple - immutable sequence of objects\n",
        "* str - character strings\n",
        "* set - unordered set of distinct objects\n",
        "* frozenset - unordered set of distinct objects (immutable)\n",
        "* dict - mapping of objects (keys) and values.\n"
      ]
    },
    {
      "cell_type": "markdown",
      "metadata": {
        "id": "z2GS75tM_X_v"
      },
      "source": [
        "## Principles of OOP ##\n",
        "\n",
        "Lets begin with the main principles of OOP applied to classes;\n",
        "* Abstraction: separating class implementation from use\n",
        "* Encapsulation: Combining data and methods into a single object and hiding from user\n",
        "* Polymorphism: methods with different behaviours depending on input argument \n",
        "* Inheritance: defining new classes from existing ones\n",
        "\n",
        "The basic syntax of a class is\n",
        "\n",
        "```\n",
        "class ClassName:  \n",
        "    <block of code>\n",
        "```\n",
        "\n"
      ]
    },
    {
      "cell_type": "markdown",
      "metadata": {
        "id": "f4Eg9PYWjduH"
      },
      "source": [
        "### Classes ###\n",
        "- Classes are basically custom data types and may comprise of multiple variables and/or methods. \n",
        "- Objects are created from classes to support the idea of objects in real-world. \n",
        "- More formally, they may be described as custom data-structures that encapsulates variables and methods into a single data-type."
      ]
    },
    {
      "cell_type": "markdown",
      "metadata": {
        "id": "gqpzTgUuRw6s"
      },
      "source": [
        "### Defining Python Classes ###"
      ]
    },
    {
      "cell_type": "markdown",
      "metadata": {
        "id": "qnzDD-WNR5Vh"
      },
      "source": [
        "A typical python class has the following;\n",
        "- **Methods** - The set of behaviours of a class or the actions that can be undertaken. \n",
        "- **Attributes** - Every instance of the class has some internal state defined by variables of the class and their corresponding values. These variable are also referred to as attributes, fields or instance variables.\n",
        "\n",
        "\n",
        "\n"
      ]
    },
    {
      "cell_type": "markdown",
      "metadata": {
        "id": "Urz7b7qts4yl"
      },
      "source": [
        "\n",
        "\n",
        "\n",
        "---\n",
        "Example 1:\n",
        "\n",
        "Lets use the following example to understand the basic components of a class. Assuming we want to create a student database, we can define a class called student. Each student is supposed to have a name, student ID, country etc.\n",
        "\n",
        "\n",
        "---\n",
        "\n",
        "\n",
        "\n",
        "\n"
      ]
    },
    {
      "cell_type": "code",
      "metadata": {
        "id": "gzVBxiCBzQQv"
      },
      "source": [
        "class AMMIStudent:\n",
        "  continent = 'Africa' # Class Variables, All AMMI students are from Africa\n",
        "  def __init__(self, firstname, lastname, country, stdID):\n",
        "    self.firstname = firstname\n",
        "    self.lastname = lastname\n",
        "    self.country = country\n",
        "    self.num_class_attendance = 0\n",
        "\n",
        "\n",
        "  def get_continent(self):\n",
        "    return self.__class__.continent\n",
        " \n",
        "  def get_full_name(self):\n",
        "    return self.firstname + ' ' + self.lastname\n",
        "\n",
        "  def get_class_attendance(self):\n",
        "    return self.num_class_attendance"
      ],
      "execution_count": null,
      "outputs": []
    },
    {
      "cell_type": "code",
      "metadata": {
        "colab": {
          "base_uri": "https://localhost:8080/"
        },
        "id": "W2RYKCmSfd1B",
        "outputId": "5a827fd4-96fa-4a21-e004-6c683da08650"
      },
      "source": [
        "print(AMMIStudent)"
      ],
      "execution_count": null,
      "outputs": [
        {
          "output_type": "stream",
          "text": [
            "<class '__main__.AMMIStudent'>\n"
          ],
          "name": "stdout"
        }
      ]
    },
    {
      "cell_type": "markdown",
      "metadata": {
        "id": "igqWBYsWm4HR"
      },
      "source": [
        "#### Creating Instances of a class ####\n",
        "- We create instances of a class by simply assigning the class to a new variable. \n",
        "- When a new instance is created, the **constructor** is automatically run to initialize all variables for the instance. \n",
        "- In python, `__init__` method is the constructor. "
      ]
    },
    {
      "cell_type": "code",
      "metadata": {
        "id": "G1KcAEtrzSNV"
      },
      "source": [
        "std1 = AMMIStudent('Mory', 'Traore', 'Senegal','AMMI012')  # We'll talk about this instantiation shortly"
      ],
      "execution_count": null,
      "outputs": []
    },
    {
      "cell_type": "code",
      "metadata": {
        "colab": {
          "base_uri": "https://localhost:8080/"
        },
        "id": "ECztl2dafo7w",
        "outputId": "45b6c66b-f69c-4244-df99-e487e8489740"
      },
      "source": [
        "print(std1)"
      ],
      "execution_count": null,
      "outputs": [
        {
          "output_type": "stream",
          "text": [
            "<__main__.AMMIStudent object at 0x7f588d4f4240>\n"
          ],
          "name": "stdout"
        }
      ]
    },
    {
      "cell_type": "code",
      "metadata": {
        "colab": {
          "base_uri": "https://localhost:8080/",
          "height": 35
        },
        "id": "4D8tep18jfpp",
        "outputId": "7ce0dc3c-226f-4d21-a9e8-1c7519023311"
      },
      "source": [
        "std1.get_continent()"
      ],
      "execution_count": null,
      "outputs": [
        {
          "output_type": "execute_result",
          "data": {
            "application/vnd.google.colaboratory.intrinsic+json": {
              "type": "string"
            },
            "text/plain": [
              "'Africa'"
            ]
          },
          "metadata": {
            "tags": []
          },
          "execution_count": 7
        }
      ]
    },
    {
      "cell_type": "code",
      "metadata": {
        "colab": {
          "base_uri": "https://localhost:8080/"
        },
        "id": "D-dlVR55HvkA",
        "outputId": "7e5abf5b-ef16-4bd9-bbd0-30be2c73e52c"
      },
      "source": [
        "print('Is std1 an instance of AMMIStudent? ', isinstance(std1, AMMIStudent))\n",
        "print('Is std1 a float object? : ', isinstance(std1, float))\n",
        "print('Is x an integer? ', isinstance(x, int))\n"
      ],
      "execution_count": null,
      "outputs": [
        {
          "output_type": "stream",
          "text": [
            "Is std1 an instance of AMMIStudent?  True\n",
            "Is std1 a float object? :  False\n",
            "Is x an integer?  True\n"
          ],
          "name": "stdout"
        }
      ]
    },
    {
      "cell_type": "markdown",
      "metadata": {
        "id": "oDR23yyDqbpt"
      },
      "source": [
        "#### Attributes and Methods ####\n",
        "- Instance attributes - variables that defines the internal state of an instance whereas methods are functions defined inside a class.\n",
        "- In the **AMMIStudent** class, the instance attributes are; \n",
        "  - firstname, \n",
        "  - lastname, \n",
        "  - country\n",
        "  - num_class_attendance. \n",
        "- The instance methods are; \n",
        "  - `get_full_name()` and \n",
        "  - `get_class_attendance()`. \n",
        "- class attributes or variables: attributes that remain unchanged for all instances of the class. An example is the `continent` in the AMMIStudent example above and are usually defined immediately below the *className*.\n",
        "- Class methods on the other hand does not make use of *self* but takes the class as input argument to access or alter the class directly. ie. `get_continent()`\n",
        "- `hasattr()` allows us check if a class has a particular attribute."
      ]
    },
    {
      "cell_type": "code",
      "metadata": {
        "colab": {
          "base_uri": "https://localhost:8080/"
        },
        "id": "nxsgfGNsh5Z_",
        "outputId": "1d07e92a-38ee-41ab-cca1-01c463a33cba"
      },
      "source": [
        "print(hasattr(std1, 'firstname'))  # Returns \"True\" if yes \n",
        "print(hasattr(std1, 'first_name')) # else \"False\" "
      ],
      "execution_count": null,
      "outputs": [
        {
          "output_type": "stream",
          "text": [
            "True\n",
            "False\n"
          ],
          "name": "stdout"
        }
      ]
    },
    {
      "cell_type": "code",
      "metadata": {
        "colab": {
          "base_uri": "https://localhost:8080/"
        },
        "id": "9BlLnO78Tucw",
        "outputId": "301f9b88-d9e6-474b-c686-f62073d5e129"
      },
      "source": [
        "print(dir(std1)) # You can use dir() to preview all the class and instance variables and methods inside a class"
      ],
      "execution_count": null,
      "outputs": [
        {
          "output_type": "stream",
          "text": [
            "['__class__', '__delattr__', '__dict__', '__dir__', '__doc__', '__eq__', '__format__', '__ge__', '__getattribute__', '__gt__', '__hash__', '__init__', '__init_subclass__', '__le__', '__lt__', '__module__', '__ne__', '__new__', '__reduce__', '__reduce_ex__', '__repr__', '__setattr__', '__sizeof__', '__str__', '__subclasshook__', '__weakref__', 'continent', 'country', 'firstname', 'get_class_attendance', 'get_continent', 'get_full_name', 'lastname', 'num_class_attendance']\n"
          ],
          "name": "stdout"
        }
      ]
    },
    {
      "cell_type": "markdown",
      "metadata": {
        "id": "GTtMn-8AqblV"
      },
      "source": [
        "#### The `self` identifier ####\n",
        "- The `self` identifier plays a key role in a class. \n",
        "- Allows every newly created instance to store or maintain its own copy of all internal variables. \n",
        "- For instance, in the student example, if we create a new student, we would provide all the details seen in the `__init__` method and these details are stored for the particular student. Changes are made specifically for that instance. So if we create a new object; <br>`std1 = AMMIStudent('Mory', 'Traore', 'Senegal', 'female','AMMI012')`\n",
        "and we call `std1.get_full_name()`, self calls the firstname and lastname associated with std1, concatenates and returns the resulting string. "
      ]
    },
    {
      "cell_type": "code",
      "metadata": {
        "colab": {
          "base_uri": "https://localhost:8080/"
        },
        "id": "HfIYs-sczsov",
        "outputId": "a45d6f8c-68aa-4eb3-b885-7012af3a53a9"
      },
      "source": [
        "print(std1.firstname)\n",
        "print(std1.get_full_name())"
      ],
      "execution_count": null,
      "outputs": [
        {
          "output_type": "stream",
          "text": [
            "Mory\n",
            "Mory Traore\n"
          ],
          "name": "stdout"
        }
      ]
    },
    {
      "cell_type": "code",
      "metadata": {
        "colab": {
          "base_uri": "https://localhost:8080/",
          "height": 190
        },
        "id": "nC2xMezszwG1",
        "outputId": "562919ea-df13-467d-e1e8-a78bd3919573"
      },
      "source": [
        "# What if we enter something without `self`\n",
        "print(std1.eps)"
      ],
      "execution_count": null,
      "outputs": [
        {
          "output_type": "error",
          "ename": "AttributeError",
          "evalue": "ignored",
          "traceback": [
            "\u001b[0;31m---------------------------------------------------------------------------\u001b[0m",
            "\u001b[0;31mAttributeError\u001b[0m                            Traceback (most recent call last)",
            "\u001b[0;32m<ipython-input-12-036129e37e1c>\u001b[0m in \u001b[0;36m<module>\u001b[0;34m()\u001b[0m\n\u001b[1;32m      1\u001b[0m \u001b[0;31m# What if we enter something without `self`\u001b[0m\u001b[0;34m\u001b[0m\u001b[0;34m\u001b[0m\u001b[0;34m\u001b[0m\u001b[0m\n\u001b[0;32m----> 2\u001b[0;31m \u001b[0mprint\u001b[0m\u001b[0;34m(\u001b[0m\u001b[0mstd1\u001b[0m\u001b[0;34m.\u001b[0m\u001b[0meps\u001b[0m\u001b[0;34m)\u001b[0m\u001b[0;34m\u001b[0m\u001b[0;34m\u001b[0m\u001b[0m\n\u001b[0m",
            "\u001b[0;31mAttributeError\u001b[0m: 'AMMIStudent' object has no attribute 'eps'"
          ]
        }
      ]
    },
    {
      "cell_type": "code",
      "metadata": {
        "colab": {
          "base_uri": "https://localhost:8080/",
          "height": 35
        },
        "id": "nDut2pxCJs1P",
        "outputId": "5881b4e6-6795-4342-8c29-f9b6c588333d"
      },
      "source": [
        "std1.continent # Calling class variables for the instance std1"
      ],
      "execution_count": null,
      "outputs": [
        {
          "output_type": "execute_result",
          "data": {
            "application/vnd.google.colaboratory.intrinsic+json": {
              "type": "string"
            },
            "text/plain": [
              "'Africa'"
            ]
          },
          "metadata": {
            "tags": []
          },
          "execution_count": 13
        }
      ]
    },
    {
      "cell_type": "markdown",
      "metadata": {
        "id": "jjEYm_mgMFgW"
      },
      "source": [
        "\n",
        "\n",
        "\n",
        "---\n",
        "\n",
        "Exercise 1.\n",
        "\n",
        "If you use the same name for an instance attribute and a class attribute, which one will be returned if the attribute name is called? Complete the code below to illiustrate this.\n",
        "\n",
        "\n",
        "\n",
        "---\n",
        "\n"
      ]
    },
    {
      "cell_type": "code",
      "metadata": {
        "id": "0kEp2SfYMD-R",
        "colab": {
          "base_uri": "https://localhost:8080/"
        },
        "outputId": "f2059230-b556-47b6-db74-a5fdaf6d2ff6"
      },
      "source": [
        "class Names:\n",
        "  #code here ~ 1 line\n",
        "  val =0\n",
        "  def __init__(self,val):\n",
        "    #code here ~ 1 line\n",
        "    self.val =val\n",
        "\n",
        "n = Names(10)\n",
        "print(n.val) # print instance variable\n",
        "print(Names.val) # print class variable"
      ],
      "execution_count": null,
      "outputs": [
        {
          "output_type": "stream",
          "text": [
            "10\n",
            "0\n"
          ],
          "name": "stdout"
        }
      ]
    },
    {
      "cell_type": "markdown",
      "metadata": {
        "id": "Gh770VXOm4Db"
      },
      "source": [
        "#### Private and Public variables ####\n",
        "- Python has no 'private' or 'public' identifier for variables accessible only inside a class.\n",
        "- However, preceding a variable name with double underscore restricts access in pretty much a similar way. eg, `__firstname`, `__lastname`"
      ]
    },
    {
      "cell_type": "markdown",
      "metadata": {
        "id": "Xe4c8AaTaIRE"
      },
      "source": [
        "If however, we want to access or modify instance variables, **getters** and **setters** provide more efficient ways to do these under our predefined rules or conditions. Implementing getters and setters are as simple as defining the function with name conventionally prefixed with *get_* or *set_* and returning or reassigning the instance variable.\n",
        "\n"
      ]
    },
    {
      "cell_type": "markdown",
      "metadata": {
        "id": "tAh9cy9G2Ly4"
      },
      "source": [
        "\n",
        "\n",
        "---\n",
        "\n",
        "\n",
        "Exercise 2. \n",
        "\n",
        "Implement a simple getter and setter methods for the `AMMIStudent` class below.\n",
        "\n",
        "\n",
        "---\n",
        "\n"
      ]
    },
    {
      "cell_type": "code",
      "metadata": {
        "id": "rMDVkU0QaHXY"
      },
      "source": [
        "class AMMIStudent:\n",
        "  continent = 'Africa' # Class Variables, All AMMI students are from Africa\n",
        "  def __init__(self, firstname, lastname, country, stdID):\n",
        "    # define all private variables here\n",
        "    ### CODE HERE ###\n",
        "    self.__firstname = firstname\n",
        "    self.__lastname = lastname\n",
        "    self.__country = country\n",
        "    self.__num_class_attendance = 0\n",
        "   ### END CODE  ###\n",
        "  \n",
        "  def get_full_name(self):\n",
        "    return self.__firstname + ' ' + self.__lastname\n",
        "\n",
        "  def get_class_attendance(self):\n",
        "    return self.__num_class_attendance\n",
        "\n",
        "  #Define getter and setter methods for firstname and lastname\n",
        "   ### CODE HERE ###\n",
        "  \n",
        "   ### END CODE  ###"
      ],
      "execution_count": null,
      "outputs": []
    },
    {
      "cell_type": "code",
      "metadata": {
        "colab": {
          "base_uri": "https://localhost:8080/",
          "height": 207
        },
        "id": "r0sS5XsVhnFV",
        "outputId": "26b443bd-8ef4-443c-ad41-bfab6b80ddcf"
      },
      "source": [
        "std2 =  AMMIStudent() # Instantiate a second object called std2, Pass your own arguments"
      ],
      "execution_count": null,
      "outputs": [
        {
          "output_type": "error",
          "ename": "TypeError",
          "evalue": "ignored",
          "traceback": [
            "\u001b[0;31m---------------------------------------------------------------------------\u001b[0m",
            "\u001b[0;31mTypeError\u001b[0m                                 Traceback (most recent call last)",
            "\u001b[0;32m<ipython-input-16-5f2d3ca5dac5>\u001b[0m in \u001b[0;36m<module>\u001b[0;34m()\u001b[0m\n\u001b[0;32m----> 1\u001b[0;31m \u001b[0mstd2\u001b[0m \u001b[0;34m=\u001b[0m  \u001b[0mAMMIStudent\u001b[0m\u001b[0;34m(\u001b[0m\u001b[0;34m)\u001b[0m \u001b[0;31m# Instantiate a second object called std2, Pass your own parameters\u001b[0m\u001b[0;34m\u001b[0m\u001b[0;34m\u001b[0m\u001b[0m\n\u001b[0m",
            "\u001b[0;31mTypeError\u001b[0m: __init__() missing 4 required positional arguments: 'firstname', 'lastname', 'country', and 'stdID'"
          ]
        }
      ]
    },
    {
      "cell_type": "code",
      "metadata": {
        "colab": {
          "base_uri": "https://localhost:8080/",
          "height": 171
        },
        "id": "Py3qCOIxkAS9",
        "outputId": "05a71f00-3ec9-4f2d-88c8-1e79ad0f92a9"
      },
      "source": [
        "std2.get_firstname #"
      ],
      "execution_count": null,
      "outputs": [
        {
          "output_type": "error",
          "ename": "NameError",
          "evalue": "ignored",
          "traceback": [
            "\u001b[0;31m---------------------------------------------------------------------------\u001b[0m",
            "\u001b[0;31mNameError\u001b[0m                                 Traceback (most recent call last)",
            "\u001b[0;32m<ipython-input-17-20ba7a49eb1d>\u001b[0m in \u001b[0;36m<module>\u001b[0;34m()\u001b[0m\n\u001b[0;32m----> 1\u001b[0;31m \u001b[0mstd2\u001b[0m\u001b[0;34m.\u001b[0m\u001b[0mget_firstname\u001b[0m \u001b[0;31m#\u001b[0m\u001b[0;34m\u001b[0m\u001b[0;34m\u001b[0m\u001b[0m\n\u001b[0m",
            "\u001b[0;31mNameError\u001b[0m: name 'std2' is not defined"
          ]
        }
      ]
    },
    {
      "cell_type": "markdown",
      "metadata": {
        "id": "rnGx57IqnpLg"
      },
      "source": [
        "### Inheritance ###\n",
        "\n",
        "- If we ever need a new class with variables or methods similar to one we have already defined, we don't need to write a new class from scratch with those same variables and methods and the additional ones we need. \n",
        "- Inheritance helps us define a **new /derived/ sub-** class that inherits variables and methods from the **base / parent/ super-** class.\n",
        "\n",
        "\n",
        "```\n",
        "class BaseClass():\n",
        "  <block of code>\n",
        "  \n",
        "class DerivedClass(BaseClass):\n",
        "   <block of code>\n",
        "```"
      ]
    },
    {
      "cell_type": "code",
      "metadata": {
        "id": "-y1GV8tMNilX"
      },
      "source": [
        "class Greet():\n",
        "  def __init__(self, greeting):\n",
        "    self.__greeting = greeting\n",
        "\n",
        "  def return_greeting(self):\n",
        "    return self.__greeting\n",
        "\n",
        "\n",
        "class GreetSomeone(Greet):\n",
        "  def __init__(self, greeting, name):\n",
        "    super().__init__(greeting)\n",
        "    self.__name = name\n",
        "\n",
        "  def greet(self):\n",
        "    print(self.return_greeting() + \"\", self.__name + \"!\")"
      ],
      "execution_count": null,
      "outputs": []
    },
    {
      "cell_type": "code",
      "metadata": {
        "colab": {
          "base_uri": "https://localhost:8080/"
        },
        "id": "Z8MG0BNHVxpx",
        "outputId": "c42dc02b-bb82-4f69-de7e-a820ecdc9605"
      },
      "source": [
        "g = GreetSomeone('Hello', \"Kobby\")\n",
        "g.greet()"
      ],
      "execution_count": null,
      "outputs": [
        {
          "output_type": "stream",
          "text": [
            "Hello Kobby!\n"
          ],
          "name": "stdout"
        }
      ]
    },
    {
      "cell_type": "markdown",
      "metadata": {
        "id": "0LGnBdybQK3-"
      },
      "source": [
        "\n",
        "\n",
        "---\n",
        "\n",
        "\n",
        "Exercise 3. \n",
        "\n",
        "Implement an Scaling class as a base class for an Affine class.\n",
        "\n",
        "The scaling function is given as; $$s = \\alpha X$$ while the full Affine transformation is given as $$y = \\alpha X + b$$\n",
        "\n",
        "Complete the code below for an Affine class that inherits from the Scaling class and has an additional method that adds an offset to the scaled values.\n",
        "   \n",
        "\n",
        "---\n",
        "\n"
      ]
    },
    {
      "cell_type": "code",
      "metadata": {
        "id": "dlm5FOZ-Dmh-"
      },
      "source": [
        "class Scaling():\n",
        "  \"\"\" Scaling class\n",
        "\n",
        "  \"\"\"\n",
        "  def __init__(self, w, x):\n",
        "    \"\"\"\n",
        "    Constructor for Scaling Class\n",
        "    Initializes params w and x\n",
        "    \"\"\"\n",
        "    self.__w = w\n",
        "    self.__x = x\n",
        "\n",
        "  def multiply_vals(self):\n",
        "    \n",
        "\n",
        "    \"\"\"\n",
        "    Parameters\n",
        "    ----------\n",
        "    None\n",
        "    Returns \n",
        "    ----------\n",
        "    s: (list) scaled values of x\n",
        "    \"\"\"\n",
        "    ###\n",
        "    # CODE HERE\n",
        "    return sum([i*w for w, x in zip(self.__w * self.__b)]\n",
        "    ###\n",
        "\n",
        "\n",
        "class Affine(Scaling):\n",
        "  \"\"\"\n",
        "  Affine Class \n",
        "  Performs affine transformation on inputs given coefficients and offset\n",
        "  \"\"\"\n",
        "\n",
        "  def __init__(self, w, x, b):\n",
        "    \"\"\"\n",
        "    Initialize w, x and b\n",
        "    \"\"\"\n",
        "    super().__init__(w, x)\n",
        "    self.__b = b\n",
        "\n",
        "  def __add_offset(self):\n",
        "    \"\"\" linear method - adds offset to scaled values of x \n",
        "        y = αX + b\n",
        "    \n",
        "    Parameters\n",
        "    ----------\n",
        "    None\n",
        "\n",
        "    Returns \n",
        "    ----------\n",
        "    y: (list) shifted values of αX \n",
        "\n",
        "    \"\"\"\n",
        "    ###\n",
        "\n",
        "    # CODE HERE\n",
        "\n",
        "    ###\n",
        "\n",
        "  def transform(self):\n",
        "    \"\"\" transform method \n",
        "    Calls __add_offset method\n",
        "    \n",
        "    Parameters\n",
        "    ----------\n",
        "    None\n",
        "\n",
        "    Returns \n",
        "    ----------\n",
        "    y: (list) shifted values of αX \n",
        "\n",
        "    \"\"\"\n",
        "    return #CODE HERE#"
      ],
      "execution_count": null,
      "outputs": []
    },
    {
      "cell_type": "markdown",
      "metadata": {
        "id": "r_Rjest3HvkS"
      },
      "source": [
        "- In the previous example, `super` is used to call the initialization method in the base class so we can focus on initializing the new variables added to the derived class."
      ]
    },
    {
      "cell_type": "code",
      "metadata": {
        "id": "OMW4qsY0EoGz"
      },
      "source": [
        "d = Affine([2,3,3], [1,2,4], 4)    # Instantiate the DerivedClass"
      ],
      "execution_count": null,
      "outputs": []
    },
    {
      "cell_type": "code",
      "metadata": {
        "id": "OjK_vkWVFsuO"
      },
      "source": [
        "d.transform()"
      ],
      "execution_count": null,
      "outputs": []
    },
    {
      "cell_type": "markdown",
      "metadata": {
        "id": "1FPAKKrfSbKa"
      },
      "source": [
        "```\n",
        "class DerivedClass(BaseClass1, BaseClass2, BaseClass3):\n",
        "  <block of code>\n",
        "```"
      ]
    },
    {
      "cell_type": "markdown",
      "metadata": {
        "id": "qwKQoHhOTLwL"
      },
      "source": [
        "\n",
        "\n",
        "---\n",
        "\n",
        "\n",
        "* Example 2:\n",
        "\n",
        " What if a method exist in both the base class and the derived class? Upon calling the method, which one executes? the method for the base class or the derived class?\n",
        "\n",
        "\n",
        "---\n",
        "\n",
        "\n"
      ]
    },
    {
      "cell_type": "code",
      "metadata": {
        "id": "LgB6nqdSM3Jy"
      },
      "source": [
        "class MLModel():\n",
        "  \"\"\"\n",
        "  Base class for machine learning models\n",
        "  \"\"\"\n",
        "  def __init__(self, X):\n",
        "    \"\"\"Init method for Machine Learning Model Base class\"\"\"\n",
        "    self.X = X\n",
        "\n",
        "  def fit(self):\n",
        "    \"\"\"Fit method\n",
        "    parameters\n",
        "    ------------\n",
        "    None\n",
        "\n",
        "    Returns\n",
        "    ------------\n",
        "    None\n",
        "    \"\"\"\n",
        "    print('Congratulations on fitting an ML model')\n",
        "\n",
        "\n",
        "\n",
        "class LinearModel(MLModel):\n",
        "  \"\"\"\n",
        "  Class for linear models\n",
        "  \"\"\"\n",
        "  def __init__(self, X, w, b):\n",
        "    \"\"\"Init method for Linear Model class\"\"\"\n",
        "    super().__init__(LinearModel)\n",
        "    self.w = w\n",
        "    self.b = b\n",
        "\n",
        "  def fit(self):\n",
        "    \"\"\"Fit method\n",
        "    parameters\n",
        "    ------------\n",
        "    None\n",
        "\n",
        "    Returns\n",
        "    ------------\n",
        "    None\n",
        "    \"\"\"\n",
        "    print('Congratulations on fitting a linear model')"
      ],
      "execution_count": null,
      "outputs": []
    },
    {
      "cell_type": "code",
      "metadata": {
        "colab": {
          "base_uri": "https://localhost:8080/"
        },
        "id": "0dSf7tT2OrYe",
        "outputId": "f10df983-be88-41c9-b7e1-d7d11dcb270d"
      },
      "source": [
        "linear = LinearModel(2,3,1)\n",
        "linear.fit()"
      ],
      "execution_count": null,
      "outputs": [
        {
          "output_type": "stream",
          "text": [
            "Congratulations on fitting a linear model\n"
          ],
          "name": "stdout"
        }
      ]
    },
    {
      "cell_type": "markdown",
      "metadata": {
        "id": "WYraihUiP0yI"
      },
      "source": [
        "- This illustrates **method overriding** in class inheritance.\n",
        "- Base Classes can therefore be used as base template for all implementations. To create a well-defined structure for the class, listing the components required for them to function properly. \n",
        "- `raise NotImplementedError` alerts about the required methods. "
      ]
    },
    {
      "cell_type": "code",
      "metadata": {
        "id": "KUnGexRCPUrU"
      },
      "source": [
        "class MLModel():\n",
        "  \"\"\"\n",
        "  Base class for machine learning models\n",
        "  \"\"\"\n",
        "  def __init__(self, X):\n",
        "    self.X = X\n",
        "\n",
        "  def fit(self):\n",
        "    \"\"\"Fit method\n",
        "    parameters\n",
        "    ------------\n",
        "    None\n",
        "\n",
        "    Returns\n",
        "    ------------\n",
        "    None\n",
        "    \"\"\"\n",
        "    raise NotImplementedError\n",
        "\n",
        "class LinearModel(MLModel):\n",
        "  def __init__(self, X, w, b):\n",
        "    \"\"\"Init method for Linear Model class\"\"\"\n",
        "    super().__init__(LinearModel)\n",
        "    self.w = w\n",
        "    self.b = b\n",
        "\n",
        "  # def fit(self):\n",
        "  #   \"\"\"Fit method\n",
        "  #   parameters\n",
        "  #   ------------\n",
        "  #   None\n",
        "\n",
        "  #   Returns\n",
        "  #   ------------\n",
        "  #   None\n",
        "  #   \"\"\"\n",
        "  #   print('Congratulations on fitting a linear model')"
      ],
      "execution_count": null,
      "outputs": []
    },
    {
      "cell_type": "code",
      "metadata": {
        "colab": {
          "base_uri": "https://localhost:8080/",
          "height": 315
        },
        "id": "9TvCWYzYPci1",
        "outputId": "fd3b60b1-3f05-4dd3-a1f1-24dd0db04fb3"
      },
      "source": [
        "linear = LinearModel(2,1,3)\n",
        "linear.fit()"
      ],
      "execution_count": null,
      "outputs": [
        {
          "output_type": "error",
          "ename": "NotImplementedError",
          "evalue": "ignored",
          "traceback": [
            "\u001b[0;31m---------------------------------------------------------------------------\u001b[0m",
            "\u001b[0;31mNotImplementedError\u001b[0m                       Traceback (most recent call last)",
            "\u001b[0;32m<ipython-input-26-d492b0b34e95>\u001b[0m in \u001b[0;36m<module>\u001b[0;34m()\u001b[0m\n\u001b[1;32m      1\u001b[0m \u001b[0mlinear\u001b[0m \u001b[0;34m=\u001b[0m \u001b[0mLinearModel\u001b[0m\u001b[0;34m(\u001b[0m\u001b[0;36m2\u001b[0m\u001b[0;34m,\u001b[0m\u001b[0;36m1\u001b[0m\u001b[0;34m,\u001b[0m\u001b[0;36m3\u001b[0m\u001b[0;34m)\u001b[0m\u001b[0;34m\u001b[0m\u001b[0;34m\u001b[0m\u001b[0m\n\u001b[0;32m----> 2\u001b[0;31m \u001b[0mlinear\u001b[0m\u001b[0;34m.\u001b[0m\u001b[0mfit\u001b[0m\u001b[0;34m(\u001b[0m\u001b[0;34m)\u001b[0m\u001b[0;34m\u001b[0m\u001b[0;34m\u001b[0m\u001b[0m\n\u001b[0m",
            "\u001b[0;32m<ipython-input-25-f9a9e3f0e180>\u001b[0m in \u001b[0;36mfit\u001b[0;34m(self)\u001b[0m\n\u001b[1;32m     16\u001b[0m     \u001b[0;32mNone\u001b[0m\u001b[0;34m\u001b[0m\u001b[0;34m\u001b[0m\u001b[0m\n\u001b[1;32m     17\u001b[0m     \"\"\"\n\u001b[0;32m---> 18\u001b[0;31m     \u001b[0;32mraise\u001b[0m \u001b[0mNotImplementedError\u001b[0m\u001b[0;34m\u001b[0m\u001b[0;34m\u001b[0m\u001b[0m\n\u001b[0m\u001b[1;32m     19\u001b[0m \u001b[0;34m\u001b[0m\u001b[0m\n\u001b[1;32m     20\u001b[0m \u001b[0;32mclass\u001b[0m \u001b[0mLinearModel\u001b[0m\u001b[0;34m(\u001b[0m\u001b[0mMLModel\u001b[0m\u001b[0;34m)\u001b[0m\u001b[0;34m:\u001b[0m\u001b[0;34m\u001b[0m\u001b[0;34m\u001b[0m\u001b[0m\n",
            "\u001b[0;31mNotImplementedError\u001b[0m: "
          ]
        }
      ]
    },
    {
      "cell_type": "markdown",
      "metadata": {
        "id": "GMyUFN8RnpOh"
      },
      "source": [
        "### Documenting a class ###\n",
        "- Properly documenting your class allows users fetch useful information about the class and its implementation details. \n",
        "- Using the [*docstring*](https://www.python.org/dev/peps/pep-0257/) helps provide this information for the class and its methods. \n",
        "- [Example from LinearModel class in sklearn](https://github.com/scikit-learn/scikit-learn/blob/ff2e52da0c09e8cb2d9a1b62bd4c3ea481187308/sklearn/linear_model/_base.py#L300)"
      ]
    },
    {
      "cell_type": "markdown",
      "metadata": {
        "id": "2oVw7eedB1e6"
      },
      "source": [
        "\n",
        "\n",
        "---\n",
        "Example 3:\n",
        "\n",
        "Implement the Sigmoid and its gradient methods; $$\\sigma(z) = \\frac{1}{1 + \\exp(-z)}$$\n",
        "\n",
        "\n",
        "$$\\sigma'(z) = \\sigma(z)(1-\\sigma(z))$$\n",
        "\n",
        "---\n",
        "\n",
        "\n",
        "\n"
      ]
    },
    {
      "cell_type": "code",
      "metadata": {
        "id": "z6yw6SVrDbV5"
      },
      "source": [
        "class sigmoid:\n",
        "  \"\"\"Implements the Sigmoid and its gradient functions\n",
        "  \"\"\"\n",
        "  def __call__(self, z):\n",
        "      \"\"\"Applies the sigmoid function to input\n",
        "      Parameters\n",
        "      -------------\n",
        "      z: list, size (n) or scalar\n",
        "\n",
        "      Returns\n",
        "      -------------\n",
        "      vals: list, size (n) or scalar\n",
        "      \"\"\"\n",
        "\n",
        "      vals = []\n",
        "      for i in range(len(z)):\n",
        "          vals.append(1. /(1. + math.exp(-z[i])))\n",
        "      return vals\n",
        "      \n",
        "    \n",
        "  def gradient(self, z):\n",
        "      \"\"\"Computes gradient of the sigmoid function \n",
        "      Parameters\n",
        "      -------------\n",
        "      z: list, size (n) or scalar\n",
        "\n",
        "      Returns\n",
        "      -------------\n",
        "      grads: list, size (n) or scalar\n",
        "      \"\"\"\n",
        "      grads = []\n",
        "      vals = self.__call__(z)\n",
        "      valssub1 = [1. - i for i in vals]\n",
        "      for i in range(len(vals)):\n",
        "          grads.append(vals[i]*valssub1[i])\n",
        "      \n",
        "      return grads"
      ],
      "execution_count": null,
      "outputs": []
    },
    {
      "cell_type": "code",
      "metadata": {
        "colab": {
          "base_uri": "https://localhost:8080/"
        },
        "id": "WKeUkIRkoAG1",
        "outputId": "11679cc6-6e0e-4e7b-d128-d1bd12bf6fcd"
      },
      "source": [
        "import math\n",
        "s = sigmoid()\n",
        "s([2,3])"
      ],
      "execution_count": null,
      "outputs": [
        {
          "output_type": "execute_result",
          "data": {
            "text/plain": [
              "[0.8807970779778823, 0.9525741268224334]"
            ]
          },
          "metadata": {
            "tags": []
          },
          "execution_count": 3
        }
      ]
    },
    {
      "cell_type": "code",
      "metadata": {
        "colab": {
          "base_uri": "https://localhost:8080/"
        },
        "id": "xbfDSltBq7iN",
        "outputId": "59d7c0e6-8fcd-4ae8-82ad-e99228715fcf"
      },
      "source": [
        "s.gradient([2,3])"
      ],
      "execution_count": null,
      "outputs": [
        {
          "output_type": "execute_result",
          "data": {
            "text/plain": [
              "[0.10499358540350662, 0.045176659730912]"
            ]
          },
          "metadata": {
            "tags": []
          },
          "execution_count": 5
        }
      ]
    },
    {
      "cell_type": "markdown",
      "metadata": {
        "id": "qZ1sSnJzzfe4"
      },
      "source": [
        "\n",
        "\n",
        "---\n",
        "\n",
        "\n",
        "Exercise 4.\n",
        "\n",
        "Use Docstring to provide a documentation for the AMMIStudent class.\n",
        "\n",
        "\n",
        "---\n",
        "\n",
        "\n",
        "\n",
        "\n",
        "\n",
        "\n"
      ]
    },
    {
      "cell_type": "code",
      "metadata": {
        "id": "5ft4ShmPytRE"
      },
      "source": [
        "class AMMIStudent:\n",
        "\n",
        "  ###\n",
        "  # WRITE dOCUMENTATION HERE\n",
        "  ###\n",
        "\n",
        "  continent = 'Africa' \n",
        "  def __init__(self, firstname, lastname, country, stdID):\n",
        "    ####\n",
        "\n",
        "    # WRITE DOCUMENTATION HERE\n",
        "\n",
        "    ####\n",
        "    self.firstname = firstname\n",
        "    self.lastname = lastname\n",
        "    self.country = country\n",
        "    self.stdID = stdID\n",
        "    self.num_class_attendance = 0\n",
        "    eps = 1\n",
        " \n",
        "  def get_full_name(self):\n",
        "    ####\n",
        "    \n",
        "    # WRITE DOCUMENTATION HERE\n",
        "\n",
        "    ####\n",
        "    return self.firstname + ' ' + self.lastname\n",
        "\n",
        "  def get_class_attendance(self):\n",
        "    ####\n",
        "    \n",
        "    # WRITE DOCUMENTATION HERE\n",
        "\n",
        "    ####\n",
        "    return self.num_class_attendance"
      ],
      "execution_count": null,
      "outputs": []
    },
    {
      "cell_type": "code",
      "metadata": {
        "colab": {
          "base_uri": "https://localhost:8080/"
        },
        "id": "2TBIDARnz-r8",
        "outputId": "1578ce3c-f5f6-4cd6-998b-944734d3a2dd"
      },
      "source": [
        "help(AMMIStudent)"
      ],
      "execution_count": null,
      "outputs": [
        {
          "output_type": "stream",
          "text": [
            "Help on class AMMIStudent in module __main__:\n",
            "\n",
            "class AMMIStudent(builtins.object)\n",
            " |  Methods defined here:\n",
            " |  \n",
            " |  __init__(self, firstname, lastname, country, stdID)\n",
            " |      Initialize self.  See help(type(self)) for accurate signature.\n",
            " |  \n",
            " |  get_class_attendance(self)\n",
            " |  \n",
            " |  get_full_name(self)\n",
            " |  \n",
            " |  ----------------------------------------------------------------------\n",
            " |  Data descriptors defined here:\n",
            " |  \n",
            " |  __dict__\n",
            " |      dictionary for instance variables (if defined)\n",
            " |  \n",
            " |  __weakref__\n",
            " |      list of weak references to the object (if defined)\n",
            " |  \n",
            " |  ----------------------------------------------------------------------\n",
            " |  Data and other attributes defined here:\n",
            " |  \n",
            " |  continent = 'Africa'\n",
            "\n"
          ],
          "name": "stdout"
        }
      ]
    },
    {
      "cell_type": "markdown",
      "metadata": {
        "id": "32S7-ufGopQX"
      },
      "source": [
        "#### Python Special Methods and Operator Overloading ####\n",
        "- Special methods makes it easier to invoke or call some operations in objects\n",
        "- For instance, using the \"+\" invokes the \\__add\\__() implemented for the class.\n",
        "- Listed below are the commonly used magic/ special methods in python"
      ]
    },
    {
      "cell_type": "code",
      "metadata": {
        "colab": {
          "base_uri": "https://localhost:8080/",
          "height": 541
        },
        "id": "J5WmCXfMhDyU",
        "outputId": "ac209ea7-59b7-45f9-a6c2-6140c9bd7d50"
      },
      "source": [
        "special_methods = {'Operator': ['x + y', 'x - y', 'x * y', 'x / y', 'x // y', 'x % y', \n",
        "                                'x == y', 'x != y', 'x > y', 'x >= y', 'x < y', 'x <= y', 'repr(x)', \n",
        "                                'str(x)', 'len(x)', '<type>(x)'],\n",
        "                   \n",
        "                  'Method' : [ 'x.__add__(y)', 'x.__sub__(y)', 'x.__mul__(y)', 'x.__truediv__(y)', \n",
        "                              'x.__floordiv__(y)', 'x.__mod__(y)', 'x.__eq__(y)', 'x.__ne__(y)', 'x.__gt__(y)', \n",
        "                              'x.__ge__(y)', 'x.__lt__(y)', 'x.__le__(y)', 'x.__repr__()', 'x.__str__()', \n",
        "                              'x.__len__()', '<type>.__init__(x)' ],\n",
        "                   \n",
        "                  'Description': ['Addition', 'Subtraction', 'Multiplication', 'Division', 'Integer division', \n",
        "                                  'Modulus', 'Equal to', 'Unequal to', 'Greater than', 'Greater than or equal to', \n",
        "                                  'Less than', 'Less than or equal to', 'Canonical string representation',\n",
        "                                  'Informal string representation', 'Collection size', 'Constructor']}\n",
        "\n",
        "import pandas as pd\n",
        "pd.DataFrame(special_methods)"
      ],
      "execution_count": null,
      "outputs": [
        {
          "output_type": "execute_result",
          "data": {
            "text/html": [
              "<div>\n",
              "<style scoped>\n",
              "    .dataframe tbody tr th:only-of-type {\n",
              "        vertical-align: middle;\n",
              "    }\n",
              "\n",
              "    .dataframe tbody tr th {\n",
              "        vertical-align: top;\n",
              "    }\n",
              "\n",
              "    .dataframe thead th {\n",
              "        text-align: right;\n",
              "    }\n",
              "</style>\n",
              "<table border=\"1\" class=\"dataframe\">\n",
              "  <thead>\n",
              "    <tr style=\"text-align: right;\">\n",
              "      <th></th>\n",
              "      <th>Operator</th>\n",
              "      <th>Method</th>\n",
              "      <th>Description</th>\n",
              "    </tr>\n",
              "  </thead>\n",
              "  <tbody>\n",
              "    <tr>\n",
              "      <th>0</th>\n",
              "      <td>x + y</td>\n",
              "      <td>x.__add__(y)</td>\n",
              "      <td>Addition</td>\n",
              "    </tr>\n",
              "    <tr>\n",
              "      <th>1</th>\n",
              "      <td>x - y</td>\n",
              "      <td>x.__sub__(y)</td>\n",
              "      <td>Subtraction</td>\n",
              "    </tr>\n",
              "    <tr>\n",
              "      <th>2</th>\n",
              "      <td>x * y</td>\n",
              "      <td>x.__mul__(y)</td>\n",
              "      <td>Multiplication</td>\n",
              "    </tr>\n",
              "    <tr>\n",
              "      <th>3</th>\n",
              "      <td>x / y</td>\n",
              "      <td>x.__truediv__(y)</td>\n",
              "      <td>Division</td>\n",
              "    </tr>\n",
              "    <tr>\n",
              "      <th>4</th>\n",
              "      <td>x // y</td>\n",
              "      <td>x.__floordiv__(y)</td>\n",
              "      <td>Integer division</td>\n",
              "    </tr>\n",
              "    <tr>\n",
              "      <th>5</th>\n",
              "      <td>x % y</td>\n",
              "      <td>x.__mod__(y)</td>\n",
              "      <td>Modulus</td>\n",
              "    </tr>\n",
              "    <tr>\n",
              "      <th>6</th>\n",
              "      <td>x == y</td>\n",
              "      <td>x.__eq__(y)</td>\n",
              "      <td>Equal to</td>\n",
              "    </tr>\n",
              "    <tr>\n",
              "      <th>7</th>\n",
              "      <td>x != y</td>\n",
              "      <td>x.__ne__(y)</td>\n",
              "      <td>Unequal to</td>\n",
              "    </tr>\n",
              "    <tr>\n",
              "      <th>8</th>\n",
              "      <td>x &gt; y</td>\n",
              "      <td>x.__gt__(y)</td>\n",
              "      <td>Greater than</td>\n",
              "    </tr>\n",
              "    <tr>\n",
              "      <th>9</th>\n",
              "      <td>x &gt;= y</td>\n",
              "      <td>x.__ge__(y)</td>\n",
              "      <td>Greater than or equal to</td>\n",
              "    </tr>\n",
              "    <tr>\n",
              "      <th>10</th>\n",
              "      <td>x &lt; y</td>\n",
              "      <td>x.__lt__(y)</td>\n",
              "      <td>Less than</td>\n",
              "    </tr>\n",
              "    <tr>\n",
              "      <th>11</th>\n",
              "      <td>x &lt;= y</td>\n",
              "      <td>x.__le__(y)</td>\n",
              "      <td>Less than or equal to</td>\n",
              "    </tr>\n",
              "    <tr>\n",
              "      <th>12</th>\n",
              "      <td>repr(x)</td>\n",
              "      <td>x.__repr__()</td>\n",
              "      <td>Canonical string representation</td>\n",
              "    </tr>\n",
              "    <tr>\n",
              "      <th>13</th>\n",
              "      <td>str(x)</td>\n",
              "      <td>x.__str__()</td>\n",
              "      <td>Informal string representation</td>\n",
              "    </tr>\n",
              "    <tr>\n",
              "      <th>14</th>\n",
              "      <td>len(x)</td>\n",
              "      <td>x.__len__()</td>\n",
              "      <td>Collection size</td>\n",
              "    </tr>\n",
              "    <tr>\n",
              "      <th>15</th>\n",
              "      <td>&lt;type&gt;(x)</td>\n",
              "      <td>&lt;type&gt;.__init__(x)</td>\n",
              "      <td>Constructor</td>\n",
              "    </tr>\n",
              "  </tbody>\n",
              "</table>\n",
              "</div>"
            ],
            "text/plain": [
              "     Operator              Method                      Description\n",
              "0       x + y        x.__add__(y)                         Addition\n",
              "1       x - y        x.__sub__(y)                      Subtraction\n",
              "2       x * y        x.__mul__(y)                   Multiplication\n",
              "3       x / y    x.__truediv__(y)                         Division\n",
              "4      x // y   x.__floordiv__(y)                 Integer division\n",
              "5       x % y        x.__mod__(y)                          Modulus\n",
              "6      x == y         x.__eq__(y)                         Equal to\n",
              "7      x != y         x.__ne__(y)                       Unequal to\n",
              "8       x > y         x.__gt__(y)                     Greater than\n",
              "9      x >= y         x.__ge__(y)         Greater than or equal to\n",
              "10      x < y         x.__lt__(y)                        Less than\n",
              "11     x <= y         x.__le__(y)            Less than or equal to\n",
              "12    repr(x)        x.__repr__()  Canonical string representation\n",
              "13     str(x)         x.__str__()   Informal string representation\n",
              "14     len(x)         x.__len__()                  Collection size\n",
              "15  <type>(x)  <type>.__init__(x)                      Constructor"
            ]
          },
          "metadata": {
            "tags": []
          },
          "execution_count": 8
        }
      ]
    },
    {
      "cell_type": "code",
      "metadata": {
        "id": "L9q91mxuXJKj"
      },
      "source": [
        "class Fraction():\n",
        "  \"\"\" A Fraction class\"\"\"\n",
        "\n",
        "  def __init__(self, numerator, denominator):\n",
        "    self.n = numerator\n",
        "    self.d = denominator\n",
        "  \n",
        "  def __repr__(self):\n",
        "    return str(self.n) + '/'+ str(self.d)\n",
        "  # def __add__(self, other):\n",
        "\n",
        "  def __mul__(self, other):\n",
        "\n",
        "\n",
        "    result = Fraction(0,0)\n",
        "    result.n = self.n  * other.n\n",
        "    result.d = self.d * other.d\n",
        "    return result"
      ],
      "execution_count": null,
      "outputs": []
    },
    {
      "cell_type": "code",
      "metadata": {
        "colab": {
          "base_uri": "https://localhost:8080/"
        },
        "id": "nQXeLjC4XfqC",
        "outputId": "52d1c480-91d9-47e0-9d70-f0f4d010987a"
      },
      "source": [
        "frac1 = Fraction(1,2)\n",
        "print(frac1)"
      ],
      "execution_count": null,
      "outputs": [
        {
          "output_type": "stream",
          "text": [
            "1/2\n"
          ],
          "name": "stdout"
        }
      ]
    },
    {
      "cell_type": "code",
      "metadata": {
        "colab": {
          "base_uri": "https://localhost:8080/"
        },
        "id": "K9Ms4JDIYTCV",
        "outputId": "af24c93f-77e4-4d54-d25e-bc2247fd764b"
      },
      "source": [
        "frac2 = Fraction(2,7)\n",
        "frac2"
      ],
      "execution_count": null,
      "outputs": [
        {
          "output_type": "execute_result",
          "data": {
            "text/plain": [
              "2/7"
            ]
          },
          "metadata": {
            "tags": []
          },
          "execution_count": 32
        }
      ]
    },
    {
      "cell_type": "code",
      "metadata": {
        "colab": {
          "base_uri": "https://localhost:8080/",
          "height": 297
        },
        "id": "xzmn1jbK1grM",
        "outputId": "4f56242d-4237-41de-a97b-a572dcad439a"
      },
      "source": [
        "f=frac1* 1."
      ],
      "execution_count": null,
      "outputs": [
        {
          "output_type": "error",
          "ename": "AttributeError",
          "evalue": "ignored",
          "traceback": [
            "\u001b[0;31m---------------------------------------------------------------------------\u001b[0m",
            "\u001b[0;31mAttributeError\u001b[0m                            Traceback (most recent call last)",
            "\u001b[0;32m<ipython-input-41-26557ea1248e>\u001b[0m in \u001b[0;36m<module>\u001b[0;34m()\u001b[0m\n\u001b[0;32m----> 1\u001b[0;31m \u001b[0mf\u001b[0m\u001b[0;34m=\u001b[0m\u001b[0mfrac1\u001b[0m\u001b[0;34m*\u001b[0m \u001b[0;36m1.\u001b[0m\u001b[0;34m\u001b[0m\u001b[0;34m\u001b[0m\u001b[0m\n\u001b[0m",
            "\u001b[0;32m<ipython-input-30-1df3afdb2e33>\u001b[0m in \u001b[0;36m__mul__\u001b[0;34m(self, other)\u001b[0m\n\u001b[1;32m     14\u001b[0m \u001b[0;34m\u001b[0m\u001b[0m\n\u001b[1;32m     15\u001b[0m     \u001b[0mresult\u001b[0m \u001b[0;34m=\u001b[0m \u001b[0mFraction\u001b[0m\u001b[0;34m(\u001b[0m\u001b[0;36m0\u001b[0m\u001b[0;34m,\u001b[0m\u001b[0;36m0\u001b[0m\u001b[0;34m)\u001b[0m\u001b[0;34m\u001b[0m\u001b[0;34m\u001b[0m\u001b[0m\n\u001b[0;32m---> 16\u001b[0;31m     \u001b[0mresult\u001b[0m\u001b[0;34m.\u001b[0m\u001b[0mn\u001b[0m \u001b[0;34m=\u001b[0m \u001b[0mself\u001b[0m\u001b[0;34m.\u001b[0m\u001b[0mn\u001b[0m  \u001b[0;34m*\u001b[0m \u001b[0mother\u001b[0m\u001b[0;34m.\u001b[0m\u001b[0mn\u001b[0m\u001b[0;34m\u001b[0m\u001b[0;34m\u001b[0m\u001b[0m\n\u001b[0m\u001b[1;32m     17\u001b[0m     \u001b[0mresult\u001b[0m\u001b[0;34m.\u001b[0m\u001b[0md\u001b[0m \u001b[0;34m=\u001b[0m \u001b[0mself\u001b[0m\u001b[0;34m.\u001b[0m\u001b[0md\u001b[0m \u001b[0;34m*\u001b[0m \u001b[0mother\u001b[0m\u001b[0;34m.\u001b[0m\u001b[0md\u001b[0m\u001b[0;34m\u001b[0m\u001b[0;34m\u001b[0m\u001b[0m\n\u001b[1;32m     18\u001b[0m     \u001b[0;32mreturn\u001b[0m \u001b[0mresult\u001b[0m\u001b[0;34m\u001b[0m\u001b[0;34m\u001b[0m\u001b[0m\n",
            "\u001b[0;31mAttributeError\u001b[0m: 'float' object has no attribute 'n'"
          ]
        }
      ]
    },
    {
      "cell_type": "code",
      "metadata": {
        "colab": {
          "base_uri": "https://localhost:8080/"
        },
        "id": "BGEW70MM1lfg",
        "outputId": "4dd28f51-b853-4d57-9156-e7ac017b4c5f"
      },
      "source": [
        "# x = 10.\n",
        "# x.numerator\n",
        "# x.denominator\n",
        "dir(float)"
      ],
      "execution_count": null,
      "outputs": [
        {
          "output_type": "execute_result",
          "data": {
            "text/plain": [
              "['__abs__',\n",
              " '__add__',\n",
              " '__bool__',\n",
              " '__class__',\n",
              " '__delattr__',\n",
              " '__dir__',\n",
              " '__divmod__',\n",
              " '__doc__',\n",
              " '__eq__',\n",
              " '__float__',\n",
              " '__floordiv__',\n",
              " '__format__',\n",
              " '__ge__',\n",
              " '__getattribute__',\n",
              " '__getformat__',\n",
              " '__getnewargs__',\n",
              " '__gt__',\n",
              " '__hash__',\n",
              " '__init__',\n",
              " '__init_subclass__',\n",
              " '__int__',\n",
              " '__le__',\n",
              " '__lt__',\n",
              " '__mod__',\n",
              " '__mul__',\n",
              " '__ne__',\n",
              " '__neg__',\n",
              " '__new__',\n",
              " '__pos__',\n",
              " '__pow__',\n",
              " '__radd__',\n",
              " '__rdivmod__',\n",
              " '__reduce__',\n",
              " '__reduce_ex__',\n",
              " '__repr__',\n",
              " '__rfloordiv__',\n",
              " '__rmod__',\n",
              " '__rmul__',\n",
              " '__round__',\n",
              " '__rpow__',\n",
              " '__rsub__',\n",
              " '__rtruediv__',\n",
              " '__setattr__',\n",
              " '__setformat__',\n",
              " '__sizeof__',\n",
              " '__str__',\n",
              " '__sub__',\n",
              " '__subclasshook__',\n",
              " '__truediv__',\n",
              " '__trunc__',\n",
              " 'as_integer_ratio',\n",
              " 'conjugate',\n",
              " 'fromhex',\n",
              " 'hex',\n",
              " 'imag',\n",
              " 'is_integer',\n",
              " 'real']"
            ]
          },
          "metadata": {
            "tags": []
          },
          "execution_count": 40
        }
      ]
    },
    {
      "cell_type": "code",
      "metadata": {
        "id": "lU7BfUYwYdv6",
        "colab": {
          "base_uri": "https://localhost:8080/",
          "height": 315
        },
        "outputId": "65f403c2-471c-44aa-be9b-65f3588b371a"
      },
      "source": [
        "frac3 = frac1 * 5\n",
        "frac3"
      ],
      "execution_count": null,
      "outputs": [
        {
          "output_type": "error",
          "ename": "AttributeError",
          "evalue": "ignored",
          "traceback": [
            "\u001b[0;31m---------------------------------------------------------------------------\u001b[0m",
            "\u001b[0;31mAttributeError\u001b[0m                            Traceback (most recent call last)",
            "\u001b[0;32m<ipython-input-35-77fd176e017c>\u001b[0m in \u001b[0;36m<module>\u001b[0;34m()\u001b[0m\n\u001b[0;32m----> 1\u001b[0;31m \u001b[0mfrac3\u001b[0m \u001b[0;34m=\u001b[0m \u001b[0mfrac1\u001b[0m \u001b[0;34m*\u001b[0m \u001b[0;36m5\u001b[0m\u001b[0;34m\u001b[0m\u001b[0;34m\u001b[0m\u001b[0m\n\u001b[0m\u001b[1;32m      2\u001b[0m \u001b[0mfrac3\u001b[0m\u001b[0;34m\u001b[0m\u001b[0;34m\u001b[0m\u001b[0m\n",
            "\u001b[0;32m<ipython-input-30-1df3afdb2e33>\u001b[0m in \u001b[0;36m__mul__\u001b[0;34m(self, other)\u001b[0m\n\u001b[1;32m     14\u001b[0m \u001b[0;34m\u001b[0m\u001b[0m\n\u001b[1;32m     15\u001b[0m     \u001b[0mresult\u001b[0m \u001b[0;34m=\u001b[0m \u001b[0mFraction\u001b[0m\u001b[0;34m(\u001b[0m\u001b[0;36m0\u001b[0m\u001b[0;34m,\u001b[0m\u001b[0;36m0\u001b[0m\u001b[0;34m)\u001b[0m\u001b[0;34m\u001b[0m\u001b[0;34m\u001b[0m\u001b[0m\n\u001b[0;32m---> 16\u001b[0;31m     \u001b[0mresult\u001b[0m\u001b[0;34m.\u001b[0m\u001b[0mn\u001b[0m \u001b[0;34m=\u001b[0m \u001b[0mself\u001b[0m\u001b[0;34m.\u001b[0m\u001b[0mn\u001b[0m  \u001b[0;34m*\u001b[0m \u001b[0mother\u001b[0m\u001b[0;34m.\u001b[0m\u001b[0mn\u001b[0m\u001b[0;34m\u001b[0m\u001b[0;34m\u001b[0m\u001b[0m\n\u001b[0m\u001b[1;32m     17\u001b[0m     \u001b[0mresult\u001b[0m\u001b[0;34m.\u001b[0m\u001b[0md\u001b[0m \u001b[0;34m=\u001b[0m \u001b[0mself\u001b[0m\u001b[0;34m.\u001b[0m\u001b[0md\u001b[0m \u001b[0;34m*\u001b[0m \u001b[0mother\u001b[0m\u001b[0;34m.\u001b[0m\u001b[0md\u001b[0m\u001b[0;34m\u001b[0m\u001b[0;34m\u001b[0m\u001b[0m\n\u001b[1;32m     18\u001b[0m     \u001b[0;32mreturn\u001b[0m \u001b[0mresult\u001b[0m\u001b[0;34m\u001b[0m\u001b[0;34m\u001b[0m\u001b[0m\n",
            "\u001b[0;31mAttributeError\u001b[0m: 'int' object has no attribute 'n'"
          ]
        }
      ]
    },
    {
      "cell_type": "markdown",
      "metadata": {
        "id": "xPqWnNYhAQM4"
      },
      "source": [
        "#### Importing Modules in python ####\n",
        "\n",
        "- Instead of writing all codes on a single file, we can have multiple files with well-defined functions, classes and even variables.\n",
        "- Importing a file makes its content readily available for use.\n",
        "- Lets take an example."
      ]
    },
    {
      "cell_type": "markdown",
      "metadata": {
        "id": "P25KA3B0BYs5"
      },
      "source": [
        "\n",
        "\n",
        "---\n",
        "Example 4:\n",
        "- Create a file called \"rational.py\" in the same directory as this notebook. \n",
        "- Copy the code for the `class Fraction` into it and save it.\n",
        "- Inside the notebook, type `import rational.py` and call the Fraction constructor.\n",
        "- Do the same multplication operation like we have done before.\n",
        "- Try the same steps for as many classes as you wish.\n",
        "- Read more about python modules [here](https://www.tutorialspoint.com/python/python_modules.htm#:~:text=A%20module%20is%20a%20Python,can%20also%20include%20runnable%20code.)\n",
        "\n",
        "\n",
        "---\n",
        "\n",
        "\n",
        "\n"
      ]
    },
    {
      "cell_type": "code",
      "metadata": {
        "id": "CjIgLV1tCtuK",
        "colab": {
          "base_uri": "https://localhost:8080/"
        },
        "outputId": "c1ca1bce-b350-4095-f301-13ec5a4c3442"
      },
      "source": [
        "#\n",
        "from rational import Fraction\n",
        "r1 = Fraction(3,5)\n",
        "r2 = Fraction(5,2)\n",
        "r3 = r1 * r2\n",
        "r3\n",
        "\n",
        "#"
      ],
      "execution_count": null,
      "outputs": [
        {
          "output_type": "execute_result",
          "data": {
            "text/plain": [
              "15/10"
            ]
          },
          "metadata": {
            "tags": []
          },
          "execution_count": 29
        }
      ]
    },
    {
      "cell_type": "markdown",
      "metadata": {
        "id": "lFU1bdpmTU9p"
      },
      "source": [
        "\n",
        "\n",
        "---\n",
        "\n",
        "\n",
        "Exercise 5\n",
        "\n",
        "Implement the following methods for a Gaussian Distribution\n",
        "- $$p(x) = \\frac{1}{\\sqrt{2 \\pi \\sigma}} exp(\\frac{1}{2\\sigma}(x-\\mu)^2)$$\n",
        "\n",
        "- $$\\mu = \\frac{1}{n}\\sum^{n}_{i}x_i$$\n",
        "\n",
        "- if *sample* = True, $$\\sigma = \\frac{1}{n - 1}\\sum^{n}_{i}(x-\\mu)^2$$ \n",
        "\n",
        "else: $$\\sigma = \\frac{1}{n}\\sum^{n}_{i}(x-\\mu)^2$$ \n",
        "\n",
        "- Sum of two Gaussians $$\\mathcal{N(\\mu_1 ,\\sigma_1)} + \\mathcal{N(\\mu_2 ,\\sigma_2)} = \\mathcal{N(\\mu_1 + \\mu_2 , \\sqrt{\\sigma_1^2 + \\sigma_2^2})}$$\n",
        "\n",
        "\n",
        "---\n",
        "\n"
      ]
    },
    {
      "cell_type": "code",
      "metadata": {
        "id": "o18bZdDSo52V"
      },
      "source": [
        "import math\n",
        "class GaussianDistribution():\n",
        "    \"\"\" Gaussian distribution class\n",
        "    \n",
        "    Attributes:\n",
        "        mean (float) representing the mean value of the distribution\n",
        "        stdev (float) representing the standard deviation of the distribution\n",
        "        data_list (list of floats) a list of floats extracted from the data file\n",
        "            \n",
        "    \"\"\"\n",
        "    def __init__(self, mu = 0, stddev = 1):\n",
        "        \n",
        "        self.mean = mu\n",
        "        self.stdev = stddev\n",
        "\n",
        "    def compute_mean(self):\n",
        "    \n",
        "        \"\"\"Compute the mean of the data set.\n",
        "        \n",
        "        Parameters\n",
        "        ----------------\n",
        "        None\n",
        "        \n",
        "        Returns\n",
        "        ---------------- \n",
        "        mean: float, mean of the data set\n",
        "    \n",
        "        \"\"\"\n",
        "                    \n",
        "         ###\n",
        "\n",
        "         # CODE HERE\n",
        "\n",
        "         ###\n",
        "\n",
        "        return self.mean\n",
        "\n",
        "\n",
        "\n",
        "    def compute_stddev(self, sample=True):\n",
        "\n",
        "        \"\"\"Compute the standard deviation of the data set.\n",
        "        \n",
        "        Parameters\n",
        "        --------------\n",
        "        sample (bool): whether the data represents a sample or population\n",
        "        \n",
        "        Returns\n",
        "        --------------\n",
        "        stddev: float, standard deviation of the data set\n",
        "    \n",
        "        \"\"\"\n",
        "         ###\n",
        "\n",
        "         # CODE HERE\n",
        "\n",
        "         ###\n",
        "\n",
        "        return self.stdev\n",
        "        \n",
        "\n",
        "    def get_data(self, data, sample=True):\n",
        "\n",
        "        \"\"\"Gets data representing either samples or population\n",
        "        \n",
        "        Parameters\n",
        "        --------------\n",
        "        data:   list, size(n)\n",
        "        sample: bool, True if data represent a sample and False if a population\n",
        "        \n",
        "        Returns:\n",
        "        None\n",
        "        \n",
        "        \"\"\"\n",
        "        self.data = data\n",
        "        self.mean = self.compute_mean()\n",
        "        self.stdev = self.compute_stddev(sample)\n",
        "        \n",
        "        \n",
        "    def pdf(self, x):\n",
        "        \"\"\"Computes the probability density function for the gaussian distribution.\n",
        "        \n",
        "        Parameters\n",
        "        ---------------\n",
        "        x:  float, point for calculating the pdf\n",
        "            \n",
        "        \n",
        "        Returns\n",
        "        ---------------\n",
        "        output: float, probability density function of point x\n",
        "        \"\"\"\n",
        "         ###\n",
        "\n",
        "        # CODE HERE\n",
        "\n",
        "        ###\n",
        "        return pdfs\n",
        "\n",
        "    def logpdf(self):\n",
        "       \"\"\"Computes the log probability density function for the gaussian distribution.\n",
        "        \n",
        "        Parameters\n",
        "        ---------------\n",
        "        None\n",
        "            \n",
        "        \n",
        "        Returns\n",
        "        ---------------\n",
        "        output: float, probability density function of point x\n",
        "        \"\"\"\n",
        "         ###\n",
        "\n",
        "         # CODE HERE\n",
        "\n",
        "         ###\n",
        "\n",
        "      return logpdfs\n",
        "\n",
        "    def __add__(self, other):\n",
        "       \"\"\"Computes the sum of two gaussian distributions.\n",
        "        \n",
        "        Parameters\n",
        "        ---------------\n",
        "        other:  Another Gaussian distribution object\n",
        "            \n",
        "        \n",
        "        Returns\n",
        "        ---------------\n",
        "        Result: A gaussian distribution object with mean summed for two gaussians \n",
        "                and squared root of sum of squares of variances  \n",
        "        \"\"\"\n",
        "       ###\n",
        "\n",
        "       # CODE HERE\n",
        "\n",
        "       ###\n",
        "      return result\n",
        "\n",
        "    def __repr__(self):\n",
        "      \"\"\"Representation magic method of the GaussianDistribution class.\n",
        "        \n",
        "        Parameters\n",
        "        ---------------\n",
        "        None\n",
        "            \n",
        "        \n",
        "        Returns\n",
        "        ---------------\n",
        "        Rrepresentation of class name with mean and variance\n",
        "        \"\"\"\n",
        "      return \"Gaussian distribution - mean: {}, standard deviation: {}\".format(self.mean, self.stdev)\n",
        "        "
      ],
      "execution_count": null,
      "outputs": []
    },
    {
      "cell_type": "code",
      "metadata": {
        "id": "H5cbVgjNo6rh"
      },
      "source": [
        "gauss1 = GaussianDistribution(0,1)\n",
        "gauss2 = GaussianDistribution(0,1)"
      ],
      "execution_count": null,
      "outputs": []
    },
    {
      "cell_type": "code",
      "metadata": {
        "id": "hhlrT1qwo_75"
      },
      "source": [
        "gauss1.get_data([2,1,4,5,2,3,1,2,3,5])\n",
        "gauss2.get_data([4,2,8,2,3,5,2,3,7,0])"
      ],
      "execution_count": null,
      "outputs": []
    },
    {
      "cell_type": "code",
      "metadata": {
        "id": "gtLwtFnKpCg_"
      },
      "source": [
        "gauss3 = gauss1 + gauss2"
      ],
      "execution_count": null,
      "outputs": []
    },
    {
      "cell_type": "code",
      "metadata": {
        "colab": {
          "base_uri": "https://localhost:8080/"
        },
        "id": "PnRF_VQVvUVA",
        "outputId": "e538c593-d1dd-474e-e3ff-3ea343190256"
      },
      "source": [
        "gauss3"
      ],
      "execution_count": null,
      "outputs": [
        {
          "output_type": "execute_result",
          "data": {
            "text/plain": [
              "Gaussian distribution - mean: 6.4, standard deviation: 3.9342747633566812"
            ]
          },
          "metadata": {
            "tags": []
          },
          "execution_count": 5
        }
      ]
    },
    {
      "cell_type": "markdown",
      "metadata": {
        "id": "gknF3xyCk5KF"
      },
      "source": [
        "###References###"
      ]
    },
    {
      "cell_type": "markdown",
      "metadata": {
        "id": "Dy6E6vxLlpJN"
      },
      "source": [
        "- Object-oriented programming\n",
        "  - https://info.keylimeinteractive.com/the-four-pillars-of-object-oriented-programming\n",
        "- Class, instance and static methods \n",
        "  - https://realpython.com/instance-class-and-static-methods-demystified/\n",
        "  - https://www.python-course.eu/python3_class_and_instance_attributes.php\n",
        "- Multiple inheritance/ Mixins\n",
        "  - https://easyaspython.com/mixins-for-fun-and-profit-cb9962760556\n",
        "- Special Methods\n",
        "  - https://diveintopython3.net/special-method-names.html\n",
        "- Python decorators\n",
        "  - https://realpython.com/primer-on-python-decorators/\n",
        "\n"
      ]
    }
  ]
}