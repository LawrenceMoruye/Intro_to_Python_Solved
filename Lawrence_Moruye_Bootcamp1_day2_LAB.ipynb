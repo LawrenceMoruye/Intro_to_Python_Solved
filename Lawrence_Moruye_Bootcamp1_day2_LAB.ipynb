{
  "nbformat": 4,
  "nbformat_minor": 0,
  "metadata": {
    "kernelspec": {
      "display_name": "Python 3",
      "language": "python",
      "name": "python3"
    },
    "language_info": {
      "codemirror_mode": {
        "name": "ipython",
        "version": 3
      },
      "file_extension": ".py",
      "mimetype": "text/x-python",
      "name": "python",
      "nbconvert_exporter": "python",
      "pygments_lexer": "ipython3",
      "version": "3.6.9"
    },
    "colab": {
      "name": "Lawrence_Moruye_Bootcamp1_day2_LAB.ipynb",
      "provenance": [],
      "collapsed_sections": []
    }
  },
  "cells": [
    {
      "cell_type": "markdown",
      "metadata": {
        "id": "PngichRafW2i"
      },
      "source": [
        "# BootCamp1 - Day 2_LAB: Loops in Python"
      ]
    },
    {
      "cell_type": "markdown",
      "metadata": {
        "id": "Jj1V-fDffW2n"
      },
      "source": [
        "The next blocks of codes are some exercises innvolving conditional statements and loops. Codes won't be written in a function format. \n",
        "<b><p style=\"color:#FF0000\"> Note that no built-in function and libraries (string ...) are allowed !!! </p>"
      ]
    },
    {
      "cell_type": "markdown",
      "metadata": {
        "id": "c3MRNejYUFzk"
      },
      "source": [
        "## Exercise 1: Get the Length\n",
        "<b> \n",
        "Given a string, write a code to get the length of the string: The number of characters including spaces and ponctuations. \n",
        "\n",
        "Ps any built-in function is not allowed.\n",
        "\n",
        "Example:\n",
        "s = 'First exercise', your code should print: The length is: 14\n",
        "\n",
        "</b> \n"
      ]
    },
    {
      "cell_type": "code",
      "metadata": {
        "id": "xsfkOaqyUDtM",
        "colab": {
          "base_uri": "https://localhost:8080/"
        },
        "outputId": "64603cb7-cd49-4c41-e40c-0ec7ec4995aa"
      },
      "source": [
        "##### WRITE YOUR CODE HERE #####\n",
        "s = 'First exercise'\n",
        "counter =0\n",
        "for x in s:\n",
        "  counter +=1\n",
        "print(counter)\n",
        "#### END CODE ####"
      ],
      "execution_count": 4,
      "outputs": [
        {
          "output_type": "stream",
          "text": [
            "14\n"
          ],
          "name": "stdout"
        }
      ]
    },
    {
      "cell_type": "markdown",
      "metadata": {
        "id": "xda43N7_8nLD"
      },
      "source": [
        "## Exercise 2: Pairwise sum\n",
        "<b> \n",
        "Given two lists l1 and l2 of size 6, create a new list that contain the pairwise sum. \n",
        "\n",
        "Example: If we have l1 = [2, 3, 4] and l2 = [4, 5, 7], it should print l3 = [6, 8, 11]\n",
        "\n",
        "</b> \n"
      ]
    },
    {
      "cell_type": "code",
      "metadata": {
        "id": "B-KUjHYT84L-",
        "colab": {
          "base_uri": "https://localhost:8080/"
        },
        "outputId": "702f9c75-ff9d-4965-a646-4b6062a76a4f"
      },
      "source": [
        "##### WRITE YOUR CODE HERE #####\n",
        "l1 =[2,3,4]\n",
        "l2 =[4,5,7]\n",
        "print(l1)\n",
        "print(l2)\n",
        "print([x+y for x,y in(zip(l1,l2))])\n",
        "#### END CODE ####"
      ],
      "execution_count": 18,
      "outputs": [
        {
          "output_type": "stream",
          "text": [
            "[2, 3, 4]\n",
            "[4, 5, 7]\n",
            "[6, 8, 11]\n"
          ],
          "name": "stdout"
        }
      ]
    },
    {
      "cell_type": "code",
      "metadata": {
        "id": "M2kXr0HmORtX"
      },
      "source": [
        ""
      ],
      "execution_count": null,
      "outputs": []
    },
    {
      "cell_type": "markdown",
      "metadata": {
        "id": "YcEL8_shOVeq"
      },
      "source": [
        "## Exercise 3: Intersection of two lists\n",
        "<b> \n",
        "Given two lists l1 and l2 of , print the intersection of the two lists. Lists don't contain duplicates.\n",
        "\n",
        "Example: If we have l1 = [1, 3, 2, 4] and l2 = [3, 4, 5, 7], it should print : 3,4\n",
        "\n",
        "</b> \n"
      ]
    },
    {
      "cell_type": "code",
      "metadata": {
        "id": "r3_vfQGdRmqM",
        "colab": {
          "base_uri": "https://localhost:8080/"
        },
        "outputId": "e7919388-5003-4492-9927-1dba3f8e9228"
      },
      "source": [
        "l1 = [1,3,2,4]\n",
        "l2 = [3,4,5,7]\n",
        "for x in l1:\n",
        "  for y in l2:\n",
        "    if x==y:\n",
        "      print(x,end=',')\n",
        "\n",
        "##### WRITE YOUR CODE HERE #####\n",
        "\n",
        "\n",
        "\n",
        "\n",
        "#### END CODE ####"
      ],
      "execution_count": 23,
      "outputs": [
        {
          "output_type": "stream",
          "text": [
            "3,4,"
          ],
          "name": "stdout"
        }
      ]
    },
    {
      "cell_type": "markdown",
      "metadata": {
        "id": "a1gT0sOSfW2o"
      },
      "source": [
        "## Exercise 4: Palindrome\n",
        "<b> Given a string s, check whether s is a palindrome. s is the palindrome if s is equal to its reverse. Ps: Use a loop, slicing operation is not allowed.</b>\n"
      ]
    },
    {
      "cell_type": "code",
      "metadata": {
        "id": "1ve3wjjjfW2o",
        "colab": {
          "base_uri": "https://localhost:8080/"
        },
        "outputId": "8b99d69f-f8ee-460d-d3ce-fe98365d5d14"
      },
      "source": [
        "s = 'abababa'\n",
        "\n",
        "##### WRITE YOUR CODE HERE #####\n",
        "new = ''\n",
        "for i in s:\n",
        "  new = i + new\n",
        "\n",
        "print(new)\n",
        "if s==new:\n",
        "  print(\"palindrome\")\n",
        "else:\n",
        "  print(\"Not palindrome\")\n",
        "\n",
        "\n",
        "#### END CODE ####"
      ],
      "execution_count": 31,
      "outputs": [
        {
          "output_type": "stream",
          "text": [
            "abababa\n",
            "palindrome\n"
          ],
          "name": "stdout"
        }
      ]
    },
    {
      "cell_type": "markdown",
      "metadata": {
        "id": "BNFNRWJouk-L"
      },
      "source": [
        "## Exercise 5: Reverse a list\n",
        "<b> Given a list l, reverse l.\n",
        "Ex= [1,2,3,4,5] ==> [5,4,3,2,1]. In this case the operation has to be done in-place. Do not allow new memory space</b>\n"
      ]
    },
    {
      "cell_type": "code",
      "metadata": {
        "id": "cmxsQNPsug27",
        "colab": {
          "base_uri": "https://localhost:8080/"
        },
        "outputId": "f7a284ea-be2e-44cb-bc9d-7915a1875378"
      },
      "source": [
        "l = [1, 2, 4, 5]\n",
        "for i in range(len(l),0,-1):\n",
        "  print(l[i-1],end =',')\n",
        "\n",
        "##### WRITE YOUR CODE HERE #####\n",
        "\n",
        "\n",
        "\n",
        " \n",
        "#### END CODE ####"
      ],
      "execution_count": 44,
      "outputs": [
        {
          "output_type": "stream",
          "text": [
            "5,4,2,1,"
          ],
          "name": "stdout"
        }
      ]
    },
    {
      "cell_type": "markdown",
      "metadata": {
        "id": "Q0CPS9JxfW2n"
      },
      "source": [
        "## Exercise 6: Reverse an integer\n",
        "<b>Given an integer n, print the reverse of n. Casting operations are not allowed.</b>"
      ]
    },
    {
      "cell_type": "code",
      "metadata": {
        "id": "833oBA4pfW2o",
        "colab": {
          "base_uri": "https://localhost:8080/"
        },
        "outputId": "91077b9f-6945-4af6-dc90-541810b1528c"
      },
      "source": [
        "n = 12345\n",
        "\n",
        "\n",
        "##### WRITE YOUR CODE HERE #####\n",
        "\n",
        "\n",
        "reversed_num = 0\n",
        "\n",
        "while(n!=0):\n",
        "  r=int(n%10)\n",
        "  reversed_num = reversed_num*10 + r\n",
        "  n=int(n/10)\n",
        "print(reversed)\n",
        "\n",
        "\n",
        "\n",
        "#### END CODE ####"
      ],
      "execution_count": 46,
      "outputs": [
        {
          "output_type": "stream",
          "text": [
            "54321\n"
          ],
          "name": "stdout"
        }
      ]
    },
    {
      "cell_type": "code",
      "metadata": {
        "id": "ifeGEd1QfW2p"
      },
      "source": [
        ""
      ],
      "execution_count": null,
      "outputs": []
    },
    {
      "cell_type": "markdown",
      "metadata": {
        "id": "2ID5LFqbfW2p"
      },
      "source": [
        "## Exercise 7: Prime Number\n",
        "<b> Given an integer n, check whether n is a prime number. A number is a prime number if it is divisible only by 1 and itself.</b> </br>\n"
      ]
    },
    {
      "cell_type": "code",
      "metadata": {
        "id": "CvZI1flPfW2q",
        "colab": {
          "base_uri": "https://localhost:8080/"
        },
        "outputId": "a6357f31-241c-484b-a5d8-9d9d531d54ac"
      },
      "source": [
        "n = 16\n",
        "k = 0\n",
        "##### WRITE YOUR CODE HERE #####\n",
        "for i in range(2,n):\n",
        "  if (n%i==0):\n",
        "    print(\"not prime\")\n",
        "    k = 1\n",
        "    break\n",
        "if(k == 0):\n",
        "  print(\"primne\")\n",
        "\n",
        "  \n",
        "\n",
        "\n",
        "#### END CODE ####"
      ],
      "execution_count": 53,
      "outputs": [
        {
          "output_type": "stream",
          "text": [
            "not prime\n"
          ],
          "name": "stdout"
        }
      ]
    },
    {
      "cell_type": "markdown",
      "metadata": {
        "id": "Y4flJQcQfW2p"
      },
      "source": [
        "## Exercise 8: Two sum\n",
        "<b> \n",
        "Given an integer n and a sorted list l, find two elements that sum up to n and their indexes. We can have many combinations but just output one of them.\n",
        "\n",
        "Example: l = [1,2,3,4], n = 5 ==> combination = 1,4\n",
        "</b> \n",
        "\n"
      ]
    },
    {
      "cell_type": "code",
      "metadata": {
        "id": "HhmQvE8q9Q9I",
        "colab": {
          "base_uri": "https://localhost:8080/"
        },
        "outputId": "4d6f6a97-b6e4-42f5-b1ed-bf48cb047905"
      },
      "source": [
        "l = [1,2,3,4,5]\n",
        "n = 9\n",
        "pointer1 = 0\n",
        "pointer2 = len(l) - 1\n",
        "\n",
        "while pointer1 < pointer2:\n",
        "  if(l[pointer1] + l[pointer2] == n):\n",
        "      print(l[pointer1],l[pointer2])\n",
        "      break\n",
        "  elif (l[pointer1] + l[pointer2] < n):\n",
        "      pointer1 += 1\n"
      ],
      "execution_count": 57,
      "outputs": [
        {
          "output_type": "stream",
          "text": [
            "4 5\n"
          ],
          "name": "stdout"
        }
      ]
    },
    {
      "cell_type": "markdown",
      "metadata": {
        "id": "PT_F7zEvfW2q"
      },
      "source": [
        "## Exercise 9: Power of Two\n",
        "<b> Given an integer n, check whether n is a power of two. </b>\n"
      ]
    },
    {
      "cell_type": "code",
      "metadata": {
        "id": "iD0p_Zz0fW2q",
        "colab": {
          "base_uri": "https://localhost:8080/"
        },
        "outputId": "e374588d-84d4-424e-aa95-c5a800413da5"
      },
      "source": [
        "n = 25\n",
        "if n==0 of n==1:\n",
        "  print(\"not power of 2\")\n",
        "else:\n",
        "  answer =True\n",
        "\n",
        "  while n//2 !=0:\n",
        "    if n%2 !=0:\n",
        "      answer =False\n",
        "      break\n",
        "\n",
        "    n =n//2\n",
        "  if answer:\n",
        "    print(\"power of two\")\n",
        "\n",
        "  else:\n",
        "    print(\"not power of 2\")\n",
        "\n",
        "##### WRITE YOUR CODE HERE #####\n",
        "\n",
        "\n",
        "\n",
        "#### END CODE ####"
      ],
      "execution_count": 54,
      "outputs": [
        {
          "output_type": "stream",
          "text": [
            "not power of 2\n"
          ],
          "name": "stdout"
        }
      ]
    },
    {
      "cell_type": "code",
      "metadata": {
        "id": "M7obOyFpfW2r"
      },
      "source": [
        ""
      ],
      "execution_count": 53,
      "outputs": []
    }
  ]
}